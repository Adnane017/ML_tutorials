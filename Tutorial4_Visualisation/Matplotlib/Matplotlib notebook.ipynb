{
 "cells": [
  {
   "cell_type": "markdown",
   "metadata": {},
   "source": [
    "# Matplotlib \n",
    "\n",
    "<br>\n",
    "<br>\n",
    "\n",
    "This notebook is mostly based on Chapter 9 from McKinney's book \"Python for data analysis\". The purpose here is to introduce you to the basics of making plots with the Matplotlib package. For more details about the package, refer to the official documentation of the package: https://matplotlib.org. You will certainly find the comprehensive catalog of plots provided on their official website very useful: https://matplotlib.org/gallery/index.html"
   ]
  },
  {
   "cell_type": "markdown",
   "metadata": {},
   "source": [
    "## 0. Preliminary steps"
   ]
  },
  {
   "cell_type": "code",
   "execution_count": null,
   "metadata": {},
   "outputs": [],
   "source": [
    "### Import necessary packages and set options\n",
    "# Numpy\n",
    "import numpy as np\n",
    "# Pandas\n",
    "import pandas as pd\n",
    "PREVIOUS_MAX_ROWS = pd.options.display.max_rows\n",
    "pd.options.display.max_rows = 20\n",
    "np.random.seed(12345)\n",
    "# Matplotlib\n",
    "import matplotlib.pyplot as plt\n",
    "import matplotlib\n",
    "plt.rc('figure', figsize=(7, 5))\n",
    "np.set_printoptions(precision=4, suppress=True)\n",
    "# To be able to display plots in the notebook\n",
    "%matplotlib inline \n",
    "# %matplotlib notebook # for intereactive plotting "
   ]
  },
  {
   "cell_type": "markdown",
   "metadata": {},
   "source": [
    "## 1. First simple plot"
   ]
  },
  {
   "cell_type": "code",
   "execution_count": null,
   "metadata": {
    "scrolled": true
   },
   "outputs": [],
   "source": [
    "# Generate data to use\n",
    "data = np.arange(10)\n",
    "data"
   ]
  },
  {
   "cell_type": "markdown",
   "metadata": {},
   "source": [
    "We can display these numbers as a line by considering them as the y-axis coordinates while their indices in the list are taken as the corresponding x-axis coordinates"
   ]
  },
  {
   "cell_type": "code",
   "execution_count": null,
   "metadata": {},
   "outputs": [],
   "source": [
    "# Plot a line\n",
    "plt.plot(data)"
   ]
  },
  {
   "cell_type": "markdown",
   "metadata": {},
   "source": [
    "## 2. Figures and Subplots\n",
    "- Figure: container thats holds all elements of plot(s)\n",
    "- Subplot: create a rectangular grid within a figure to allow for multiple plots in the same figure. "
   ]
  },
  {
   "cell_type": "code",
   "execution_count": null,
   "metadata": {},
   "outputs": [],
   "source": [
    "# Create a new figure object (an empty plot window would normally appear if you are using Python console)\n",
    "fig = plt.figure()"
   ]
  },
  {
   "cell_type": "code",
   "execution_count": null,
   "metadata": {},
   "outputs": [],
   "source": [
    "# Add subplots to fig\n",
    "ax1 = fig.add_subplot(2, 2, 1)\n",
    "ax2 = fig.add_subplot(2, 2, 2)\n",
    "ax3 = fig.add_subplot(2, 2, 3)"
   ]
  },
  {
   "cell_type": "code",
   "execution_count": null,
   "metadata": {},
   "outputs": [],
   "source": [
    "fig"
   ]
  },
  {
   "cell_type": "code",
   "execution_count": null,
   "metadata": {
    "scrolled": true
   },
   "outputs": [],
   "source": [
    "### fill in all three subplots\n",
    "# Create a new figure object\n",
    "fig = plt.figure()\n",
    "# Initialise subplots in fig\n",
    "ax1 = fig.add_subplot(2, 2, 1)\n",
    "ax2 = fig.add_subplot(2, 2, 2)\n",
    "ax3 = fig.add_subplot(2, 2, 3)\n",
    "# Add subplots\n",
    "ax1.hist(np.random.randn(100), bins=20, color='k', alpha=0.3)\n",
    "ax2.scatter(np.arange(30), np.arange(30) + 3 * np.random.randn(30))\n",
    "ax3.plot(np.random.rand(50).cumsum(), 'k--')"
   ]
  },
  {
   "cell_type": "code",
   "execution_count": null,
   "metadata": {
    "scrolled": false
   },
   "outputs": [],
   "source": [
    "# To create a figure and its subplots at the same time\n",
    "fig, axes = plt.subplots(2, 3)\n",
    "# Return an array that contains the created subplot objects\n",
    "axes"
   ]
  },
  {
   "cell_type": "code",
   "execution_count": null,
   "metadata": {
    "scrolled": true
   },
   "outputs": [],
   "source": [
    "# Create a figure and its subplots at the same time.\n",
    "# sharex=True and sharey=True ensure that the axes of the \n",
    "# different subplots have the same scale\n",
    "fig, axes = plt.subplots(2, 2, sharex=True, sharey=True) \n",
    "# Fill in the subplots\n",
    "for i in range(2):\n",
    "    for j in range(2):\n",
    "        axes[i, j].hist(np.random.randn(500), bins=50, color='k', alpha=0.5)\n",
    "# adjust the spacing bewteen the subplots (here we remove the spacing)\n",
    "plt.subplots_adjust(wspace=0, hspace=0)"
   ]
  },
  {
   "cell_type": "markdown",
   "metadata": {},
   "source": [
    "## 3. Plotting options"
   ]
  },
  {
   "cell_type": "markdown",
   "metadata": {},
   "source": [
    "#### Colors, Markers, and Line Styles\n",
    "- For colors add the option: color = ('k')\n",
    "- For markers add the option: marker = ('o')\n",
    "- For line styles add the option: linestyle = ('dashed' or '--')"
   ]
  },
  {
   "cell_type": "markdown",
   "metadata": {},
   "source": [
    "<h5>Available Colors:</h5>\n",
    "<pre>\n",
    "<code>\n",
    "code       color\n",
    "________________________\n",
    "&#39;k&#39;         black\n",
    "&#39;b&#39;         blue\n",
    "&#39;c&#39;         cyan\n",
    "&#39;g&#39;         green\n",
    "&#39;m&#39;         magenta\n",
    "&#39;r&#39;         red\n",
    "&#39;w&#39;         white\n",
    "&#39;y&#39;         yellow\n",
    "</code>\n",
    "</pre>"
   ]
  },
  {
   "cell_type": "markdown",
   "metadata": {},
   "source": [
    "<h5>Available Markers:</h5>\n",
    "<table border=\"1\" class=\"docutils\">\n",
    "<colgroup>\n",
    "<col width=\"38%\" />\n",
    "<col width=\"62%\" />\n",
    "</colgroup>\n",
    "<thead valign=\"bottom\">\n",
    "<tr class=\"row-odd\"><th class=\"head\">marker</th>\n",
    "<th class=\"head\">description</th>\n",
    "</tr>\n",
    "</thead>\n",
    "<tbody valign=\"top\">\n",
    "<tr class=\"row-even\"><td>&#8221;.&#8221;</td>\n",
    "<td>point</td>\n",
    "</tr>\n",
    "<tr class=\"row-odd\"><td>&#8221;,&#8221;</td>\n",
    "<td>pixel</td>\n",
    "</tr>\n",
    "<tr class=\"row-even\"><td>&#8220;o&#8221;</td>\n",
    "<td>circle</td>\n",
    "</tr>\n",
    "<tr class=\"row-odd\"><td>&#8220;v&#8221;</td>\n",
    "<td>triangle_down</td>\n",
    "</tr>\n",
    "<tr class=\"row-even\"><td>&#8220;^&#8221;</td>\n",
    "<td>triangle_up</td>\n",
    "</tr>\n",
    "<tr class=\"row-odd\"><td>&#8220;&lt;&#8221;</td>\n",
    "<td>triangle_left</td>\n",
    "</tr>\n",
    "<tr class=\"row-even\"><td>&#8220;&gt;&#8221;</td>\n",
    "<td>triangle_right</td>\n",
    "</tr>\n",
    "<tr class=\"row-odd\"><td>&#8220;1&#8221;</td>\n",
    "<td>tri_down</td>\n",
    "</tr>\n",
    "<tr class=\"row-even\"><td>&#8220;2&#8221;</td>\n",
    "<td>tri_up</td>\n",
    "</tr>\n",
    "<tr class=\"row-odd\"><td>&#8220;3&#8221;</td>\n",
    "<td>tri_left</td>\n",
    "</tr>\n",
    "<tr class=\"row-even\"><td>&#8220;4&#8221;</td>\n",
    "<td>tri_right</td>\n",
    "</tr>\n",
    "<tr class=\"row-odd\"><td>&#8220;8&#8221;</td>\n",
    "<td>octagon</td>\n",
    "</tr>\n",
    "<tr class=\"row-even\"><td>&#8220;s&#8221;</td>\n",
    "<td>square</td>\n",
    "</tr>\n",
    "<tr class=\"row-odd\"><td>&#8220;p&#8221;</td>\n",
    "<td>pentagon</td>\n",
    "</tr>\n",
    "<tr class=\"row-even\"><td>&#8220;*&#8221;</td>\n",
    "<td>star</td>\n",
    "</tr>\n",
    "<tr class=\"row-odd\"><td>&#8220;h&#8221;</td>\n",
    "<td>hexagon1</td>\n",
    "</tr>\n",
    "<tr class=\"row-even\"><td>&#8220;H&#8221;</td>\n",
    "<td>hexagon2</td>\n",
    "</tr>\n",
    "<tr class=\"row-odd\"><td>&#8220;+&#8221;</td>\n",
    "<td>plus</td>\n",
    "</tr>\n",
    "<tr class=\"row-even\"><td>&#8220;x&#8221;</td>\n",
    "<td>x</td>\n",
    "</tr>\n",
    "<tr class=\"row-odd\"><td>&#8220;D&#8221;</td>\n",
    "<td>diamond</td>\n",
    "</tr>\n",
    "<tr class=\"row-even\"><td>&#8220;d&#8221;</td>\n",
    "<td>thin_diamond</td>\n",
    "</tr>\n",
    "<tr class=\"row-odd\"><td>&#8220;|&#8221;</td>\n",
    "<td>vline</td>\n",
    "</tr>\n",
    "<tr class=\"row-even\"><td>&#8220;_&#8221;</td>\n",
    "<td>hline</td>\n",
    "</tr>\n",
    "<tr class=\"row-odd\"><td>TICKLEFT</td>\n",
    "<td>tickleft</td>\n",
    "</tr>\n",
    "<tr class=\"row-even\"><td>TICKRIGHT</td>\n",
    "<td>tickright</td>\n",
    "</tr>\n",
    "<tr class=\"row-odd\"><td>TICKUP</td>\n",
    "<td>tickup</td>\n",
    "</tr>\n",
    "<tr class=\"row-even\"><td>TICKDOWN</td>\n",
    "<td>tickdown</td>\n",
    "</tr>\n",
    "<tr class=\"row-odd\"><td>CARETLEFT</td>\n",
    "<td>caretleft</td>\n",
    "</tr>\n",
    "<tr class=\"row-even\"><td>CARETRIGHT</td>\n",
    "<td>caretright</td>\n",
    "</tr>\n",
    "<tr class=\"row-odd\"><td>CARETUP</td>\n",
    "<td>caretup</td>\n",
    "</tr>\n",
    "<tr class=\"row-even\"><td>CARETDOWN</td>\n",
    "<td>caretdown</td>\n",
    "</tr>\n",
    "<tr class=\"row-odd\"><td>&#8220;None&#8221;</td>\n",
    "<td>nothing</td>\n",
    "</tr>\n",
    "<tr class=\"row-even\"><td>None</td>\n",
    "<td>nothing</td>\n",
    "</tr>\n",
    "<tr class=\"row-odd\"><td>&#8221; &#8220;</td>\n",
    "<td>nothing</td>\n",
    "</tr>\n",
    "<tr class=\"row-even\"><td>&#8220;&#8221;</td>\n",
    "<td>nothing</td>\n",
    "</tr>\n",
    "<tr class=\"row-odd\"><td><code class=\"docutils literal\"><span class=\"pre\">'$...$'</span></code></td>\n",
    "<td>render the string using mathtext.</td>\n",
    "</tr>\n",
    "<tr class=\"row-even\"><td><code class=\"xref py py-obj docutils literal\"><span class=\"pre\">verts</span></code></td>\n",
    "<td>a list of (x, y) pairs used for Path vertices.\n",
    "The center of the marker is located at (0,0) and\n",
    "the size is normalized.</td>\n",
    "</tr>\n",
    "<tr class=\"row-odd\"><td>path</td>\n",
    "<td>a <a class=\"reference internal\" href=\"path_api.html#matplotlib.path.Path\" title=\"matplotlib.path.Path\"><code class=\"xref py py-obj docutils literal\"><span class=\"pre\">Path</span></code></a> instance.</td>\n",
    "</tr>\n",
    "<tr class=\"row-even\"><td>(<code class=\"xref py py-obj docutils literal\"><span class=\"pre\">numsides</span></code>, <code class=\"xref py py-obj docutils literal\"><span class=\"pre\">style</span></code>, <code class=\"xref py py-obj docutils literal\"><span class=\"pre\">angle</span></code>)</td>\n",
    "<td>see below</td>\n",
    "</tr>\n",
    "</tbody>\n",
    "</table>"
   ]
  },
  {
   "cell_type": "code",
   "execution_count": null,
   "metadata": {},
   "outputs": [],
   "source": [
    "# Example (play with the different options)\n",
    "from numpy.random import randn\n",
    "np.random.seed(10)\n",
    "plt.plot(randn(30).cumsum(), color='k', linestyle='dashed', marker='o')"
   ]
  },
  {
   "cell_type": "code",
   "execution_count": null,
   "metadata": {},
   "outputs": [],
   "source": [
    "# The same can be obtained using a shortened version\n",
    "np.random.seed(10)\n",
    "plt.plot(randn(30).cumsum(), 'ko--')"
   ]
  },
  {
   "cell_type": "markdown",
   "metadata": {},
   "source": [
    "#### Title, axis labels, ticks and ticklabels"
   ]
  },
  {
   "cell_type": "code",
   "execution_count": null,
   "metadata": {},
   "outputs": [],
   "source": [
    "# Create a figure to manipulate\n",
    "fig = plt.figure()\n",
    "ax = fig.add_subplot(1, 1, 1)\n",
    "ax.plot(np.random.randn(1000).cumsum())"
   ]
  },
  {
   "cell_type": "code",
   "execution_count": null,
   "metadata": {},
   "outputs": [],
   "source": [
    "fig = plt.figure()\n",
    "ax = fig.add_subplot(1, 1, 1)\n",
    "ax.plot(np.random.randn(1000).cumsum())\n",
    "# set x-axis range\n",
    "ax.set_xlim([-50, 1050])\n",
    "# Set ticks\n",
    "ticks = ax.set_xticks([0, 250, 500, 750, 1000])\n",
    "# Replace the ticks with labels\n",
    "labels = ax.set_xticklabels(['one', 'two', 'three', 'four', 'five'],\n",
    "                            rotation=30, fontsize='small')\n",
    "# Add a title\n",
    "ax.set_title('My first matplotlib plot')\n",
    "# Add a label for the x-axis\n",
    "ax.set_xlabel('Stages')\n",
    "# Add a label for the y-axis\n",
    "ax.set_ylabel('Temperature')"
   ]
  },
  {
   "cell_type": "code",
   "execution_count": null,
   "metadata": {},
   "outputs": [],
   "source": [
    "# We can add xlabels and title using a batch setting\n",
    "fig = plt.figure()\n",
    "ax = fig.add_subplot(1, 1, 1)\n",
    "ax.plot(np.random.randn(1000).cumsum())\n",
    "# Set ticks\n",
    "ticks = ax.set_xticks([0, 250, 500, 750, 1000])\n",
    "# Replace the ticks with labels\n",
    "labels = ax.set_xticklabels(['one', 'two', 'three', 'four', 'five'],\n",
    "                            rotation=30, fontsize='small')\n",
    "# Add a title, an xlabel and a ylabel\n",
    "props = { \n",
    "    'title': 'My first matplotlib plot', \n",
    "    'xlabel': 'Stages',\n",
    "    'ylabel': 'Temperature', \n",
    "} \n",
    "ax.set(**props)"
   ]
  },
  {
   "cell_type": "markdown",
   "metadata": {},
   "source": [
    "#### Legends"
   ]
  },
  {
   "cell_type": "code",
   "execution_count": null,
   "metadata": {},
   "outputs": [],
   "source": [
    "from numpy.random import randn\n",
    "np.random.seed(1)\n",
    "\n",
    "fig = plt.figure() \n",
    "ax = fig.add_subplot(1, 1, 1)\n",
    "# Draw the first curve and passing in its legend\n",
    "ax.plot(randn(1000).cumsum(), 'g', label='one')\n",
    "# Draw the second curve and telling Puython to not include its label in the legend\n",
    "ax.plot(randn(1000).cumsum(), 'r--', label='_nolegend_')\n",
    "# Draw the third curve and passing in its legend\n",
    "ax.plot(randn(1000).cumsum(), 'k.', label='three')\n",
    "# Place the legend in the best location\n",
    "ax.legend(loc='best')"
   ]
  },
  {
   "cell_type": "markdown",
   "metadata": {},
   "source": [
    "## 4. Annotate a plot"
   ]
  },
  {
   "cell_type": "code",
   "execution_count": null,
   "metadata": {},
   "outputs": [],
   "source": [
    "# To add a text in the previous plot\n",
    "from numpy.random import randn\n",
    "np.random.seed(1)\n",
    "\n",
    "fig = plt.figure() \n",
    "ax = fig.add_subplot(1, 1, 1)\n",
    "# Draw the first curve and passing in its legend\n",
    "ax.plot(randn(1000).cumsum(), 'g', label='one')\n",
    "# Draw the second curve and telling Puython to not include its label in the legend\n",
    "ax.plot(randn(1000).cumsum(), 'r--', label='two')\n",
    "# Draw the third curve and passing in its legend\n",
    "ax.plot(randn(1000).cumsum(), 'k.', label='three')\n",
    "# Place the legend in the best location\n",
    "ax.legend(loc='best')\n",
    "ax.text(600, 8, 'Hello world!', family = 'monospace', fontsize = 10)"
   ]
  },
  {
   "cell_type": "code",
   "execution_count": null,
   "metadata": {
    "scrolled": true
   },
   "outputs": [],
   "source": [
    "# To add texts with arrows\n",
    "from datetime import datetime\n",
    "\n",
    "fig = plt.figure()\n",
    "ax = fig.add_subplot(1, 1, 1)\n",
    "data = pd.read_csv('spx.csv', index_col=0, parse_dates=True)\n",
    "spx = data['SPX']\n",
    "spx.plot(ax=ax, style='k-')\n",
    "crisis_data = [\n",
    " (datetime(2007, 10, 11), 'Peak of bull market'),\n",
    " (datetime(2008, 3, 12), 'Bear Stearns Fails'),\n",
    " (datetime(2008, 9, 15), 'Lehman Bankruptcy')\n",
    "]\n",
    "for date, label in crisis_data:\n",
    "    ax.annotate(label, xy=(date, spx.asof(date) + 50),\n",
    "    xytext=(date, spx.asof(date) + 200),\n",
    "    arrowprops=dict(facecolor='black'),\n",
    "    horizontalalignment='left', verticalalignment='top')\n",
    "# Zoom in on 2007-2010\n",
    "ax.set_xlim(['1/1/2007', '1/1/2011'])\n",
    "ax.set_ylim([600, 1800])\n",
    "ax.set_title('Important dates in 2008-2009 financial crisis')"
   ]
  },
  {
   "cell_type": "code",
   "execution_count": null,
   "metadata": {},
   "outputs": [],
   "source": [
    "# Generate data to use\n",
    "mu, sigma = 100, 15\n",
    "data_set = mu + sigma * np.random.randn(10000)"
   ]
  },
  {
   "cell_type": "code",
   "execution_count": null,
   "metadata": {
    "scrolled": false
   },
   "outputs": [],
   "source": [
    "# Plot a histogram\n",
    "n, bins, patches = plt.hist(data_set, 50, normed=1, facecolor='g', alpha=0.75)\n",
    "plt.xlabel('Smarts')\n",
    "plt.ylabel('Probability')\n",
    "plt.title('Histogram of IQ')\n",
    "plt.text(60, .025, r'$\\mu=100,\\ \\sigma=15$')\n",
    "plt.axis([40, 160, 0, 0.03])\n",
    "plt.grid(True)\n",
    "plt.show()"
   ]
  },
  {
   "cell_type": "markdown",
   "metadata": {},
   "source": [
    "## 5. Advanced functionalities"
   ]
  },
  {
   "cell_type": "markdown",
   "metadata": {},
   "source": [
    "#### Add shapes to a plot"
   ]
  },
  {
   "cell_type": "code",
   "execution_count": null,
   "metadata": {},
   "outputs": [],
   "source": [
    "fig = plt.figure()\n",
    "ax = fig.add_subplot(1, 1, 1)\n",
    "\n",
    "# Create a rectangular shape\n",
    "rect = plt.Rectangle((0.2, 0.75), 0.4, 0.15, color='k', alpha=0.3)\n",
    "# Create a circular shape\n",
    "circ = plt.Circle((0.7, 0.2), 0.15, color='b', alpha=0.3)\n",
    "# Creat a polygone\n",
    "pgon = plt.Polygon([[0.15, 0.15], [0.35, 0.4], [0.2, 0.6]], color='g', alpha=0.5)\n",
    "# Add the shapes to the plot\n",
    "ax.add_patch(rect)\n",
    "ax.add_patch(circ)\n",
    "ax.add_patch(pgon)"
   ]
  },
  {
   "cell_type": "markdown",
   "metadata": {},
   "source": [
    "#### Saving plots"
   ]
  },
  {
   "cell_type": "code",
   "execution_count": null,
   "metadata": {},
   "outputs": [],
   "source": [
    "fig = plt.figure()\n",
    "ax = fig.add_subplot(1, 1, 1)\n",
    "\n",
    "# Create a rectangular shape\n",
    "rect = plt.Rectangle((0.2, 0.75), 0.4, 0.15, color='k', alpha=0.3)\n",
    "# Create a circular shape\n",
    "circ = plt.Circle((0.7, 0.2), 0.15, color='b', alpha=0.3)\n",
    "# Creat a polygone\n",
    "pgon = plt.Polygon([[0.15, 0.15], [0.35, 0.4], [0.2, 0.6]], color='g', alpha=0.5)\n",
    "# Add the shapes to the plot\n",
    "ax.add_patch(rect)\n",
    "ax.add_patch(circ)\n",
    "ax.add_patch(pgon)\n",
    "\n",
    "# Save plot\n",
    "plt.savefig('figpath.png', dpi=400, bbox_inches='tight')"
   ]
  },
  {
   "cell_type": "markdown",
   "metadata": {},
   "source": [
    "\"bbox_inches\" allows to trim the whitespace around the actual figure. Other options that can be set when saving a figure are:\n",
    "\n",
    "- fname: String containing a filepath or a Python file-like object. The figure format is inferred from the file extension, e.g. .pdf for PDF or .png for PNG.\n",
    "- dpi: The figure resolution in dots per inch; defaults to 100 out of the box but can be configured\n",
    "- facecolor, edge color: The color of the figure background outside of the subplots. 'w' (white), by default\n",
    "- format: The explicit file format to use ('png', 'pdf', 'svg', 'ps', 'eps', ...)\n",
    "- bbox_inches: The portion of the figure to save. If 'tight' is passed, will attempt to trim the empty space around the figure\n"
   ]
  },
  {
   "cell_type": "markdown",
   "metadata": {},
   "source": [
    "#### Matplotlib configuration"
   ]
  },
  {
   "cell_type": "code",
   "execution_count": null,
   "metadata": {},
   "outputs": [],
   "source": [
    "# Set the default figure size\n",
    "plt.rc('figure', figsize=(8, 6))\n",
    "# The firs argument tells python what to customize: 'figure', 'axes', 'xtick', 'ytick', 'grid', 'legend'"
   ]
  },
  {
   "cell_type": "code",
   "execution_count": null,
   "metadata": {},
   "outputs": [],
   "source": [
    "# Options can also be entered as a dictionary\n",
    "font_options = {'family' : 'monospace',\n",
    "                'weight' : 'bold',\n",
    "                'size'   : 'small'}\n",
    "plt.rc('font', **font_options)"
   ]
  }
 ],
 "metadata": {
  "kernelspec": {
   "display_name": "Python 3",
   "language": "python",
   "name": "python3"
  },
  "language_info": {
   "codemirror_mode": {
    "name": "ipython",
    "version": 3
   },
   "file_extension": ".py",
   "mimetype": "text/x-python",
   "name": "python",
   "nbconvert_exporter": "python",
   "pygments_lexer": "ipython3",
   "version": "3.7.1"
  }
 },
 "nbformat": 4,
 "nbformat_minor": 2
}

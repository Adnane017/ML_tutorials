{
 "cells": [
  {
   "cell_type": "markdown",
   "metadata": {},
   "source": [
    "## Notes from NumPy Data Science Essential Training"
   ]
  },
  {
   "cell_type": "markdown",
   "metadata": {},
   "source": [
    "### 1. Create NumPy arrays using Python's \"array like\" data types"
   ]
  },
  {
   "cell_type": "code",
   "execution_count": 1,
   "metadata": {},
   "outputs": [
    {
     "name": "stdout",
     "output_type": "stream",
     "text": [
      "1.16.4\n"
     ]
    }
   ],
   "source": [
    "# Import numpy package and check its version\n",
    "import numpy as np\n",
    "print(np.__version__)"
   ]
  },
  {
   "cell_type": "markdown",
   "metadata": {},
   "source": [
    "#### Array from a list"
   ]
  },
  {
   "cell_type": "code",
   "execution_count": 2,
   "metadata": {},
   "outputs": [
    {
     "data": {
      "text/plain": [
       "array([-17,   0,   4,   5,   9])"
      ]
     },
     "execution_count": 2,
     "metadata": {},
     "output_type": "execute_result"
    }
   ],
   "source": [
    "my_list = [-17, 0, 4, 5, 9]\n",
    "my_array_from_list = np.array(my_list)\n",
    "my_array_from_list"
   ]
  },
  {
   "cell_type": "markdown",
   "metadata": {},
   "source": [
    "#### Array from a tuple"
   ]
  },
  {
   "cell_type": "code",
   "execution_count": 3,
   "metadata": {
    "scrolled": true
   },
   "outputs": [
    {
     "data": {
      "text/plain": [
       "array([14.  +0.j, -3.54+0.j,  5.  +7.j])"
      ]
     },
     "execution_count": 3,
     "metadata": {},
     "output_type": "execute_result"
    }
   ],
   "source": [
    "my_tuple = (14, -3.54, 5+7j)\n",
    "np.array(my_tuple)"
   ]
  },
  {
   "cell_type": "markdown",
   "metadata": {},
   "source": [
    "#### Difference between tuples and numpy arrays"
   ]
  },
  {
   "cell_type": "code",
   "execution_count": 6,
   "metadata": {},
   "outputs": [
    {
     "data": {
      "text/plain": [
       "(14,\n",
       " -3.54,\n",
       " (5+7j),\n",
       " 14,\n",
       " -3.54,\n",
       " (5+7j),\n",
       " 14,\n",
       " -3.54,\n",
       " (5+7j),\n",
       " 14,\n",
       " -3.54,\n",
       " (5+7j),\n",
       " 14,\n",
       " -3.54,\n",
       " (5+7j))"
      ]
     },
     "execution_count": 6,
     "metadata": {},
     "output_type": "execute_result"
    }
   ],
   "source": [
    "# Multiplying a tuple by a scalar \"n\" duplicate the tuple n times\n",
    "my_tuple * 5"
   ]
  },
  {
   "cell_type": "code",
   "execution_count": 7,
   "metadata": {},
   "outputs": [
    {
     "data": {
      "text/plain": [
       "array([ 70.  +0.j, -17.7 +0.j,  25. +35.j])"
      ]
     },
     "execution_count": 7,
     "metadata": {},
     "output_type": "execute_result"
    }
   ],
   "source": [
    "# Multiplying an array by a scalar \"n\", produce an array whose elements are the elements \n",
    "# of the original array multiplied by n \n",
    "np.array(my_tuple) * 5"
   ]
  },
  {
   "cell_type": "markdown",
   "metadata": {},
   "source": [
    "#### Create an array using np.arrange()"
   ]
  },
  {
   "cell_type": "code",
   "execution_count": 8,
   "metadata": {},
   "outputs": [
    {
     "data": {
      "text/plain": [
       "array([0, 1, 2, 3, 4, 5, 6])"
      ]
     },
     "execution_count": 8,
     "metadata": {},
     "output_type": "execute_result"
    }
   ],
   "source": [
    "# The most basic way\n",
    "np.arange(7)"
   ]
  },
  {
   "cell_type": "code",
   "execution_count": 9,
   "metadata": {},
   "outputs": [
    {
     "data": {
      "text/plain": [
       "array([10, 11, 12, 13, 14, 15, 16, 17, 18, 19, 20, 21, 22])"
      ]
     },
     "execution_count": 9,
     "metadata": {},
     "output_type": "execute_result"
    }
   ],
   "source": [
    "# Array whose elements are comprised bewteen two numbers\n",
    "np.arange(10, 23)"
   ]
  },
  {
   "cell_type": "code",
   "execution_count": 10,
   "metadata": {},
   "outputs": [
    {
     "data": {
      "text/plain": [
       "array([ 0,  5, 10, 15, 20, 25])"
      ]
     },
     "execution_count": 10,
     "metadata": {},
     "output_type": "execute_result"
    }
   ],
   "source": [
    "# With a step of 5\n",
    "np.arange(0, 26, step=5)\n",
    "# Or simply: np.arange(0, 26, 5)"
   ]
  },
  {
   "cell_type": "markdown",
   "metadata": {},
   "source": [
    "#### Size of an array"
   ]
  },
  {
   "cell_type": "code",
   "execution_count": 11,
   "metadata": {},
   "outputs": [
    {
     "data": {
      "text/plain": [
       "13"
      ]
     },
     "execution_count": 11,
     "metadata": {},
     "output_type": "execute_result"
    }
   ],
   "source": [
    "np.arange(10, 23).size"
   ]
  },
  {
   "cell_type": "code",
   "execution_count": 12,
   "metadata": {},
   "outputs": [
    {
     "data": {
      "text/plain": [
       "13"
      ]
     },
     "execution_count": 12,
     "metadata": {},
     "output_type": "execute_result"
    }
   ],
   "source": [
    "# this is the same as using len()\n",
    "len(np.arange(10, 23))"
   ]
  },
  {
   "cell_type": "markdown",
   "metadata": {},
   "source": [
    "#### Create an array using linspace()"
   ]
  },
  {
   "cell_type": "code",
   "execution_count": 13,
   "metadata": {},
   "outputs": [
    {
     "data": {
      "text/plain": [
       "array([ 5.  ,  6.25,  7.5 ,  8.75, 10.  , 11.25, 12.5 , 13.75, 15.  ])"
      ]
     },
     "execution_count": 13,
     "metadata": {},
     "output_type": "execute_result"
    }
   ],
   "source": [
    "import numpy as np\n",
    "np.linspace(5, 15, 9)"
   ]
  },
  {
   "cell_type": "code",
   "execution_count": 14,
   "metadata": {},
   "outputs": [
    {
     "data": {
      "text/plain": [
       "1.25"
      ]
     },
     "execution_count": 14,
     "metadata": {},
     "output_type": "execute_result"
    }
   ],
   "source": [
    "# To find out the step size used\n",
    "my_linspace = np.linspace(5, 15, 9, retstep=True)\n",
    "my_linspace[1]"
   ]
  },
  {
   "cell_type": "code",
   "execution_count": 17,
   "metadata": {},
   "outputs": [
    {
     "data": {
      "text/plain": [
       "array([ 5.  ,  6.25,  7.5 ,  8.75, 10.  , 11.25, 12.5 , 13.75, 15.  ])"
      ]
     },
     "execution_count": 17,
     "metadata": {},
     "output_type": "execute_result"
    }
   ],
   "source": [
    "# To display the array \n",
    "my_linspace[0]"
   ]
  },
  {
   "cell_type": "markdown",
   "metadata": {},
   "source": [
    "#### Create an array using zeros()"
   ]
  },
  {
   "cell_type": "code",
   "execution_count": 20,
   "metadata": {},
   "outputs": [
    {
     "data": {
      "text/plain": [
       "array([0., 0., 0., 0., 0.])"
      ]
     },
     "execution_count": 20,
     "metadata": {},
     "output_type": "execute_result"
    }
   ],
   "source": [
    "import numpy as np\n",
    "np.zeros(5)"
   ]
  },
  {
   "cell_type": "code",
   "execution_count": 22,
   "metadata": {},
   "outputs": [
    {
     "data": {
      "text/plain": [
       "array([[[0., 0., 0., 0.],\n",
       "        [0., 0., 0., 0.],\n",
       "        [0., 0., 0., 0.],\n",
       "        [0., 0., 0., 0.],\n",
       "        [0., 0., 0., 0.]],\n",
       "\n",
       "       [[0., 0., 0., 0.],\n",
       "        [0., 0., 0., 0.],\n",
       "        [0., 0., 0., 0.],\n",
       "        [0., 0., 0., 0.],\n",
       "        [0., 0., 0., 0.]],\n",
       "\n",
       "       [[0., 0., 0., 0.],\n",
       "        [0., 0., 0., 0.],\n",
       "        [0., 0., 0., 0.],\n",
       "        [0., 0., 0., 0.],\n",
       "        [0., 0., 0., 0.]]])"
      ]
     },
     "execution_count": 22,
     "metadata": {},
     "output_type": "execute_result"
    }
   ],
   "source": [
    "# Array of dim 3 * 5 * 4\n",
    "np.zeros((3,5,4))"
   ]
  },
  {
   "cell_type": "markdown",
   "metadata": {},
   "source": [
    "#### Create an array using ones()"
   ]
  },
  {
   "cell_type": "code",
   "execution_count": 21,
   "metadata": {},
   "outputs": [
    {
     "data": {
      "text/plain": [
       "array([1., 1., 1., 1., 1., 1., 1.])"
      ]
     },
     "execution_count": 21,
     "metadata": {},
     "output_type": "execute_result"
    }
   ],
   "source": [
    "import numpy as np\n",
    "np.ones(7)"
   ]
  },
  {
   "cell_type": "code",
   "execution_count": 24,
   "metadata": {},
   "outputs": [
    {
     "data": {
      "text/plain": [
       "array([[1., 1., 1., 1., 1.],\n",
       "       [1., 1., 1., 1., 1.],\n",
       "       [1., 1., 1., 1., 1.],\n",
       "       [1., 1., 1., 1., 1.]])"
      ]
     },
     "execution_count": 24,
     "metadata": {},
     "output_type": "execute_result"
    }
   ],
   "source": [
    "# Array of dim 4 * 5\n",
    "np.ones((4,5))"
   ]
  },
  {
   "cell_type": "markdown",
   "metadata": {},
   "source": [
    "#### Create an array with a predefined data type"
   ]
  },
  {
   "cell_type": "code",
   "execution_count": 25,
   "metadata": {},
   "outputs": [
    {
     "data": {
      "text/plain": [
       "array([0, 0, 0, 0, 0, 0, 0, 0, 0, 0, 0], dtype=int64)"
      ]
     },
     "execution_count": 25,
     "metadata": {},
     "output_type": "execute_result"
    }
   ],
   "source": [
    "# Array of integers\n",
    "np.zeros(11, dtype='int64')"
   ]
  },
  {
   "cell_type": "code",
   "execution_count": 26,
   "metadata": {},
   "outputs": [
    {
     "data": {
      "text/plain": [
       "array([0., 0., 0., 0., 0., 0., 0., 0., 0., 0., 0.])"
      ]
     },
     "execution_count": 26,
     "metadata": {},
     "output_type": "execute_result"
    }
   ],
   "source": [
    "# Array of floats\n",
    "np.zeros(11)"
   ]
  },
  {
   "cell_type": "markdown",
   "metadata": {},
   "source": [
    "### 2. Array's indexing"
   ]
  },
  {
   "cell_type": "markdown",
   "metadata": {},
   "source": [
    "#### For vectors"
   ]
  },
  {
   "cell_type": "code",
   "execution_count": 27,
   "metadata": {},
   "outputs": [
    {
     "data": {
      "text/plain": [
       "array([-17,  -4,   0,   2,  21,  37, 105])"
      ]
     },
     "execution_count": 27,
     "metadata": {},
     "output_type": "execute_result"
    }
   ],
   "source": [
    "import numpy as np\n",
    "\n",
    "# First we create an array to use\n",
    "my_vector = np.array ([-17, -4, 0, 2, 21, 37, 105])\n",
    "my_vector"
   ]
  },
  {
   "cell_type": "code",
   "execution_count": 28,
   "metadata": {},
   "outputs": [
    {
     "data": {
      "text/plain": [
       "-17"
      ]
     },
     "execution_count": 28,
     "metadata": {},
     "output_type": "execute_result"
    }
   ],
   "source": [
    "# Get the first element\n",
    "my_vector[0]"
   ]
  },
  {
   "cell_type": "code",
   "execution_count": 29,
   "metadata": {},
   "outputs": [
    {
     "data": {
      "text/plain": [
       "array([-102,   -4,    0,    2,   21,   37,  105])"
      ]
     },
     "execution_count": 29,
     "metadata": {},
     "output_type": "execute_result"
    }
   ],
   "source": [
    "# Change the first element\n",
    "my_vector[0] = -102\n",
    "my_vector"
   ]
  },
  {
   "cell_type": "code",
   "execution_count": 30,
   "metadata": {},
   "outputs": [
    {
     "data": {
      "text/plain": [
       "21"
      ]
     },
     "execution_count": 30,
     "metadata": {},
     "output_type": "execute_result"
    }
   ],
   "source": [
    "# Display the 3rd to last element\n",
    "my_vector[-3]"
   ]
  },
  {
   "cell_type": "code",
   "execution_count": 31,
   "metadata": {},
   "outputs": [
    {
     "data": {
      "text/plain": [
       "21"
      ]
     },
     "execution_count": 31,
     "metadata": {},
     "output_type": "execute_result"
    }
   ],
   "source": [
    "# Indexing after an operation\n",
    "my_vector[305 % 7]"
   ]
  },
  {
   "cell_type": "markdown",
   "metadata": {},
   "source": [
    "#### For two-dimensional arrays"
   ]
  },
  {
   "cell_type": "code",
   "execution_count": 32,
   "metadata": {},
   "outputs": [
    {
     "data": {
      "text/plain": [
       "array([[ 0,  1,  2,  3,  4],\n",
       "       [ 5,  6,  7,  8,  9],\n",
       "       [10, 11, 12, 13, 14],\n",
       "       [15, 16, 17, 18, 19],\n",
       "       [20, 21, 22, 23, 24],\n",
       "       [25, 26, 27, 28, 29],\n",
       "       [30, 31, 32, 33, 34]])"
      ]
     },
     "execution_count": 32,
     "metadata": {},
     "output_type": "execute_result"
    }
   ],
   "source": [
    "# Create a two-dimensional array to use\n",
    "# First we create a vector of 35 elements\n",
    "my_array= np.arange(35)\n",
    "# Second we reshape it into a 7 by 5 array\n",
    "my_array.shape = (7,5)\n",
    "my_array"
   ]
  },
  {
   "cell_type": "code",
   "execution_count": 33,
   "metadata": {},
   "outputs": [
    {
     "data": {
      "text/plain": [
       "array([10, 11, 12, 13, 14])"
      ]
     },
     "execution_count": 33,
     "metadata": {},
     "output_type": "execute_result"
    }
   ],
   "source": [
    "# Display the second row\n",
    "my_array[2]"
   ]
  },
  {
   "cell_type": "code",
   "execution_count": 37,
   "metadata": {},
   "outputs": [
    {
     "data": {
      "text/plain": [
       "array([ 3,  8, 13, 18, 23, 28, 33])"
      ]
     },
     "execution_count": 37,
     "metadata": {},
     "output_type": "execute_result"
    }
   ],
   "source": [
    "# Display the second to last column\n",
    "my_array[:,-2]"
   ]
  },
  {
   "cell_type": "code",
   "execution_count": 38,
   "metadata": {},
   "outputs": [
    {
     "data": {
      "text/plain": [
       "27"
      ]
     },
     "execution_count": 38,
     "metadata": {},
     "output_type": "execute_result"
    }
   ],
   "source": [
    "# Display a specific element of an array\n",
    "my_array[5,2]"
   ]
  },
  {
   "cell_type": "markdown",
   "metadata": {},
   "source": [
    "#### For three-dimensional arrays"
   ]
  },
  {
   "cell_type": "code",
   "execution_count": 40,
   "metadata": {},
   "outputs": [
    {
     "data": {
      "text/plain": [
       "array([[[ 0,  1,  2,  3,  4],\n",
       "        [ 5,  6,  7,  8,  9],\n",
       "        [10, 11, 12, 13, 14],\n",
       "        [15, 16, 17, 18, 19],\n",
       "        [20, 21, 22, 23, 24],\n",
       "        [25, 26, 27, 28, 29],\n",
       "        [30, 31, 32, 33, 34]],\n",
       "\n",
       "       [[35, 36, 37, 38, 39],\n",
       "        [40, 41, 42, 43, 44],\n",
       "        [45, 46, 47, 48, 49],\n",
       "        [50, 51, 52, 53, 54],\n",
       "        [55, 56, 57, 58, 59],\n",
       "        [60, 61, 62, 63, 64],\n",
       "        [65, 66, 67, 68, 69]]])"
      ]
     },
     "execution_count": 40,
     "metadata": {},
     "output_type": "execute_result"
    }
   ],
   "source": [
    "# Create a three-dimensional array to use\n",
    "# First we create a vector of 35 elements\n",
    "my_3D_array= np.arange(70)\n",
    "# Second we reshape it into a 2 by 7 by 5 array\n",
    "my_3D_array.shape = (2, 7, 5)\n",
    "my_3D_array"
   ]
  },
  {
   "cell_type": "code",
   "execution_count": 41,
   "metadata": {},
   "outputs": [
    {
     "data": {
      "text/plain": [
       "array([[35, 36, 37, 38, 39],\n",
       "       [40, 41, 42, 43, 44],\n",
       "       [45, 46, 47, 48, 49],\n",
       "       [50, 51, 52, 53, 54],\n",
       "       [55, 56, 57, 58, 59],\n",
       "       [60, 61, 62, 63, 64],\n",
       "       [65, 66, 67, 68, 69]])"
      ]
     },
     "execution_count": 41,
     "metadata": {},
     "output_type": "execute_result"
    }
   ],
   "source": [
    "# Display the elements in the second position of the first dimension\n",
    "my_3D_array[1]"
   ]
  },
  {
   "cell_type": "code",
   "execution_count": 43,
   "metadata": {},
   "outputs": [
    {
     "data": {
      "text/plain": [
       "array([50, 51, 52, 53, 54])"
      ]
     },
     "execution_count": 43,
     "metadata": {},
     "output_type": "execute_result"
    }
   ],
   "source": [
    "# Display the elements that are in the 4th row of the second two dimensional array \n",
    "my_3D_array[1,3]"
   ]
  },
  {
   "cell_type": "code",
   "execution_count": 45,
   "metadata": {},
   "outputs": [
    {
     "data": {
      "text/plain": [
       "array([[[   0,    1,    2,    3,    4],\n",
       "        [   5,    6,    7,    8,    9],\n",
       "        [  10,   11,   12,   13,   14],\n",
       "        [  15,   16,   17,   18,   19],\n",
       "        [  20,   21,   22,   23,   24],\n",
       "        [  25,   26,   27,   28,   29],\n",
       "        [  30,   31,   32,   33,   34]],\n",
       "\n",
       "       [[  35,   36,   37,   38,   39],\n",
       "        [  40,   41,   42,   43,   44],\n",
       "        [  45,   46,   47,   48,   49],\n",
       "        [  50,   51, 1111,   53,   54],\n",
       "        [  55,   56,   57,   58,   59],\n",
       "        [  60,   61,   62,   63,   64],\n",
       "        [  65,   66,   67,   68,   69]]])"
      ]
     },
     "execution_count": 45,
     "metadata": {},
     "output_type": "execute_result"
    }
   ],
   "source": [
    "# Change a specific element in the array\n",
    "my_3D_array[1,3,2] = 1111\n",
    "my_3D_array"
   ]
  },
  {
   "cell_type": "markdown",
   "metadata": {},
   "source": [
    "### 3. Boolean Mask Arrays"
   ]
  },
  {
   "cell_type": "code",
   "execution_count": 1,
   "metadata": {},
   "outputs": [
    {
     "data": {
      "text/plain": [
       "array([-17,  -4,   0,   2,  21,  37, 105])"
      ]
     },
     "execution_count": 1,
     "metadata": {},
     "output_type": "execute_result"
    }
   ],
   "source": [
    "import numpy as np\n",
    "\n",
    "# First we create an array to use\n",
    "my_vector = np.array([-17, -4, 0, 2, 21, 37, 105])\n",
    "my_vector"
   ]
  },
  {
   "cell_type": "code",
   "execution_count": 2,
   "metadata": {},
   "outputs": [
    {
     "data": {
      "text/plain": [
       "array([False, False,  True, False,  True, False,  True])"
      ]
     },
     "execution_count": 2,
     "metadata": {},
     "output_type": "execute_result"
    }
   ],
   "source": [
    "# Check whether each element of the vector is divisible by 7 or not\n",
    "zero_mod_7_mask = (0 == (my_vector % 7))\n",
    "zero_mod_7_mask"
   ]
  },
  {
   "cell_type": "markdown",
   "metadata": {},
   "source": [
    "#### Select the elements that are divisible by 7 and are positive: method 1"
   ]
  },
  {
   "cell_type": "code",
   "execution_count": 3,
   "metadata": {},
   "outputs": [
    {
     "data": {
      "text/plain": [
       "array([  0,  21, 105])"
      ]
     },
     "execution_count": 3,
     "metadata": {},
     "output_type": "execute_result"
    }
   ],
   "source": [
    "# Select the elements that are divisible by 7\n",
    "sub_array_div7 = my_vector[zero_mod_7_mask]\n",
    "sub_array_div7"
   ]
  },
  {
   "cell_type": "code",
   "execution_count": 5,
   "metadata": {},
   "outputs": [
    {
     "data": {
      "text/plain": [
       "array([ 21, 105])"
      ]
     },
     "execution_count": 5,
     "metadata": {},
     "output_type": "execute_result"
    }
   ],
   "source": [
    "# Select the elements that are divisible by 7 and are positive\n",
    "sub_array_div7[sub_array_div7>0]"
   ]
  },
  {
   "cell_type": "markdown",
   "metadata": {},
   "source": [
    "#### Select the elements that are divisible by 7 and are positive: method 2"
   ]
  },
  {
   "cell_type": "code",
   "execution_count": 6,
   "metadata": {},
   "outputs": [
    {
     "data": {
      "text/plain": [
       "array([False, False,  True, False,  True, False,  True])"
      ]
     },
     "execution_count": 6,
     "metadata": {},
     "output_type": "execute_result"
    }
   ],
   "source": [
    "# Test which elements are divisible by 7\n",
    "mod_test = (0 == (my_vector % 7))\n",
    "mod_test"
   ]
  },
  {
   "cell_type": "code",
   "execution_count": 7,
   "metadata": {},
   "outputs": [
    {
     "data": {
      "text/plain": [
       "array([False, False, False,  True,  True,  True,  True])"
      ]
     },
     "execution_count": 7,
     "metadata": {},
     "output_type": "execute_result"
    }
   ],
   "source": [
    "# Test which elements are > 0\n",
    "positive_test = my_vector > 0\n",
    "positive_test"
   ]
  },
  {
   "cell_type": "code",
   "execution_count": 8,
   "metadata": {},
   "outputs": [
    {
     "data": {
      "text/plain": [
       "array([False, False, False, False,  True, False,  True])"
      ]
     },
     "execution_count": 8,
     "metadata": {},
     "output_type": "execute_result"
    }
   ],
   "source": [
    "# Test which elements are divisible by 7 and are > 0\n",
    "combined_mask = np.logical_and(mod_test, positive_test)\n",
    "combined_mask"
   ]
  },
  {
   "cell_type": "code",
   "execution_count": 9,
   "metadata": {},
   "outputs": [
    {
     "data": {
      "text/plain": [
       "array([ 21, 105])"
      ]
     },
     "execution_count": 9,
     "metadata": {},
     "output_type": "execute_result"
    }
   ],
   "source": [
    "# Select the elements that are divisible by 7 and are positive\n",
    "my_vector[combined_mask]"
   ]
  },
  {
   "cell_type": "code",
   "execution_count": 17,
   "metadata": {},
   "outputs": [
    {
     "data": {
      "text/plain": [
       "array([ True, False])"
      ]
     },
     "execution_count": 17,
     "metadata": {},
     "output_type": "execute_result"
    }
   ],
   "source": [
    "# logical_and can also work with multiple arrays\n",
    "np.logical_and(np.array([True, False]), np.array([True, True]), np.array([True, True]))"
   ]
  },
  {
   "cell_type": "markdown",
   "metadata": {},
   "source": [
    "### 4. Operations with arrays"
   ]
  },
  {
   "cell_type": "markdown",
   "metadata": {},
   "source": [
    "#### Exploring some useful functions "
   ]
  },
  {
   "cell_type": "code",
   "execution_count": 26,
   "metadata": {},
   "outputs": [
    {
     "data": {
      "text/plain": [
       "array([[[ 0,  1,  2,  3,  4],\n",
       "        [ 5,  6,  7,  8,  9],\n",
       "        [10, 11, 12, 13, 14],\n",
       "        [15, 16, 17, 18, 19],\n",
       "        [20, 21, 22, 23, 24],\n",
       "        [25, 26, 27, 28, 29],\n",
       "        [30, 31, 32, 33, 34]],\n",
       "\n",
       "       [[35, 36, 37, 38, 39],\n",
       "        [40, 41, 42, 43, 44],\n",
       "        [45, 46, 47, 48, 49],\n",
       "        [50, 51, 52, 53, 54],\n",
       "        [55, 56, 57, 58, 59],\n",
       "        [60, 61, 62, 63, 64],\n",
       "        [65, 66, 67, 68, 69]]])"
      ]
     },
     "execution_count": 26,
     "metadata": {},
     "output_type": "execute_result"
    }
   ],
   "source": [
    "import numpy as np\n",
    "\n",
    "# Define an array to work with\n",
    "my_3D_array = np.arange(70)\n",
    "my_3D_array.shape = (2,7,5)\n",
    "my_3D_array"
   ]
  },
  {
   "cell_type": "code",
   "execution_count": 19,
   "metadata": {},
   "outputs": [
    {
     "data": {
      "text/plain": [
       "(2, 7, 5)"
      ]
     },
     "execution_count": 19,
     "metadata": {},
     "output_type": "execute_result"
    }
   ],
   "source": [
    "# shape\n",
    "my_3D_array.shape"
   ]
  },
  {
   "cell_type": "code",
   "execution_count": 20,
   "metadata": {},
   "outputs": [
    {
     "data": {
      "text/plain": [
       "3"
      ]
     },
     "execution_count": 20,
     "metadata": {},
     "output_type": "execute_result"
    }
   ],
   "source": [
    "# number of dimensions\n",
    "my_3D_array.ndim"
   ]
  },
  {
   "cell_type": "code",
   "execution_count": 21,
   "metadata": {},
   "outputs": [
    {
     "data": {
      "text/plain": [
       "70"
      ]
     },
     "execution_count": 21,
     "metadata": {},
     "output_type": "execute_result"
    }
   ],
   "source": [
    "# size, i.e., number of elements\n",
    "my_3D_array.size"
   ]
  },
  {
   "cell_type": "code",
   "execution_count": 22,
   "metadata": {},
   "outputs": [
    {
     "data": {
      "text/plain": [
       "dtype('int32')"
      ]
     },
     "execution_count": 22,
     "metadata": {},
     "output_type": "execute_result"
    }
   ],
   "source": [
    "# data type for each element\n",
    "my_3D_array.dtype"
   ]
  },
  {
   "cell_type": "code",
   "execution_count": 27,
   "metadata": {},
   "outputs": [
    {
     "data": {
      "text/plain": [
       "4"
      ]
     },
     "execution_count": 27,
     "metadata": {},
     "output_type": "execute_result"
    }
   ],
   "source": [
    "# item size for each element within an array\n",
    "my_3D_array.itemsize"
   ]
  },
  {
   "cell_type": "code",
   "execution_count": 28,
   "metadata": {},
   "outputs": [
    {
     "data": {
      "text/plain": [
       "numpy.ndarray"
      ]
     },
     "execution_count": 28,
     "metadata": {},
     "output_type": "execute_result"
    }
   ],
   "source": [
    "# type (for the array; not for elements within array)\n",
    "type(my_3D_array)"
   ]
  },
  {
   "cell_type": "markdown",
   "metadata": {},
   "source": [
    "#### Operations involving scalars"
   ]
  },
  {
   "cell_type": "code",
   "execution_count": 23,
   "metadata": {},
   "outputs": [
    {
     "data": {
      "text/plain": [
       "array([[[ -2,   3,   8,  13,  18],\n",
       "        [ 23,  28,  33,  38,  43],\n",
       "        [ 48,  53,  58,  63,  68],\n",
       "        [ 73,  78,  83,  88,  93],\n",
       "        [ 98, 103, 108, 113, 118],\n",
       "        [123, 128, 133, 138, 143],\n",
       "        [148, 153, 158, 163, 168]],\n",
       "\n",
       "       [[173, 178, 183, 188, 193],\n",
       "        [198, 203, 208, 213, 218],\n",
       "        [223, 228, 233, 238, 243],\n",
       "        [248, 253, 258, 263, 268],\n",
       "        [273, 278, 283, 288, 293],\n",
       "        [298, 303, 308, 313, 318],\n",
       "        [323, 328, 333, 338, 343]]])"
      ]
     },
     "execution_count": 23,
     "metadata": {},
     "output_type": "execute_result"
    }
   ],
   "source": [
    "5 * my_3D_array - 2"
   ]
  },
  {
   "cell_type": "markdown",
   "metadata": {},
   "source": [
    "#### Array multiplication"
   ]
  },
  {
   "cell_type": "code",
   "execution_count": 25,
   "metadata": {},
   "outputs": [
    {
     "data": {
      "text/plain": [
       "array([[ 25,  28,  31,  34,  37],\n",
       "       [ 70,  82,  94, 106, 118]])"
      ]
     },
     "execution_count": 25,
     "metadata": {},
     "output_type": "execute_result"
    }
   ],
   "source": [
    "# Create two arrays to use\n",
    "left_mat = np.arange(6).reshape((2,3))\n",
    "right_mat = np.arange(15).reshape((3,5))\n",
    "# dot product\n",
    "np.dot(left_mat, right_mat)"
   ]
  },
  {
   "cell_type": "markdown",
   "metadata": {},
   "source": [
    "#### Inner product"
   ]
  },
  {
   "cell_type": "code",
   "execution_count": 31,
   "metadata": {},
   "outputs": [
    {
     "data": {
      "text/plain": [
       "100"
      ]
     },
     "execution_count": 31,
     "metadata": {},
     "output_type": "execute_result"
    }
   ],
   "source": [
    "# Create two vectors to use\n",
    "left_vect = np.arange(5)\n",
    "right_vect = np.arange(7,12)\n",
    "np.inner(left_vect, right_vect)"
   ]
  },
  {
   "cell_type": "markdown",
   "metadata": {},
   "source": [
    "#### sum along axes "
   ]
  },
  {
   "cell_type": "code",
   "execution_count": 32,
   "metadata": {},
   "outputs": [
    {
     "data": {
      "text/plain": [
       "array([[[ 0,  1,  2,  3,  4],\n",
       "        [ 5,  6,  7,  8,  9],\n",
       "        [10, 11, 12, 13, 14],\n",
       "        [15, 16, 17, 18, 19],\n",
       "        [20, 21, 22, 23, 24],\n",
       "        [25, 26, 27, 28, 29],\n",
       "        [30, 31, 32, 33, 34]],\n",
       "\n",
       "       [[35, 36, 37, 38, 39],\n",
       "        [40, 41, 42, 43, 44],\n",
       "        [45, 46, 47, 48, 49],\n",
       "        [50, 51, 52, 53, 54],\n",
       "        [55, 56, 57, 58, 59],\n",
       "        [60, 61, 62, 63, 64],\n",
       "        [65, 66, 67, 68, 69]]])"
      ]
     },
     "execution_count": 32,
     "metadata": {},
     "output_type": "execute_result"
    }
   ],
   "source": [
    "# Array to use\n",
    "my_3D_array"
   ]
  },
  {
   "cell_type": "code",
   "execution_count": 33,
   "metadata": {},
   "outputs": [
    {
     "data": {
      "text/plain": [
       "2415"
      ]
     },
     "execution_count": 33,
     "metadata": {},
     "output_type": "execute_result"
    }
   ],
   "source": [
    "# Sum all elements of an array\n",
    "my_3D_array.sum()"
   ]
  },
  {
   "cell_type": "code",
   "execution_count": 34,
   "metadata": {},
   "outputs": [
    {
     "data": {
      "text/plain": [
       "array([[ 35,  37,  39,  41,  43],\n",
       "       [ 45,  47,  49,  51,  53],\n",
       "       [ 55,  57,  59,  61,  63],\n",
       "       [ 65,  67,  69,  71,  73],\n",
       "       [ 75,  77,  79,  81,  83],\n",
       "       [ 85,  87,  89,  91,  93],\n",
       "       [ 95,  97,  99, 101, 103]])"
      ]
     },
     "execution_count": 34,
     "metadata": {},
     "output_type": "execute_result"
    }
   ],
   "source": [
    "# Sum along the first axis\n",
    "my_3D_array.sum(axis=0)"
   ]
  },
  {
   "cell_type": "code",
   "execution_count": 35,
   "metadata": {},
   "outputs": [
    {
     "data": {
      "text/plain": [
       "array([[105, 112, 119, 126, 133],\n",
       "       [350, 357, 364, 371, 378]])"
      ]
     },
     "execution_count": 35,
     "metadata": {},
     "output_type": "execute_result"
    }
   ],
   "source": [
    "# Sum along the second axis\n",
    "my_3D_array.sum(axis=1)"
   ]
  },
  {
   "cell_type": "code",
   "execution_count": 37,
   "metadata": {},
   "outputs": [
    {
     "data": {
      "text/plain": [
       "array([[ 10,  35,  60,  85, 110, 135, 160],\n",
       "       [185, 210, 235, 260, 285, 310, 335]])"
      ]
     },
     "execution_count": 37,
     "metadata": {},
     "output_type": "execute_result"
    }
   ],
   "source": [
    "# Sum along the third/last axis\n",
    "my_3D_array.sum(axis=2)"
   ]
  },
  {
   "cell_type": "markdown",
   "metadata": {},
   "source": [
    "#### Multiplying arrays of different dimensions"
   ]
  },
  {
   "cell_type": "code",
   "execution_count": 52,
   "metadata": {},
   "outputs": [
    {
     "data": {
      "text/plain": [
       "array([[0.154, 0.946, 0.176, 0.786, 0.506],\n",
       "       [0.827, 0.375, 0.309, 0.362, 0.148],\n",
       "       [0.054, 0.427, 0.629, 0.106, 0.695],\n",
       "       [0.351, 0.99 , 0.922, 0.979, 0.083],\n",
       "       [0.654, 0.725, 0.845, 0.572, 0.285],\n",
       "       [0.976, 0.891, 0.139, 0.339, 0.447],\n",
       "       [0.054, 0.006, 0.206, 0.311, 0.829]])"
      ]
     },
     "execution_count": 52,
     "metadata": {},
     "output_type": "execute_result"
    }
   ],
   "source": [
    "# Set the number of decimal digits to display\n",
    "np.set_printoptions(precision=3)\n",
    "# Create a 2D-array\n",
    "my_random_2D_array = np.random.random((7,5))\n",
    "my_random_2D_array"
   ]
  },
  {
   "cell_type": "code",
   "execution_count": 54,
   "metadata": {},
   "outputs": [
    {
     "name": "stdout",
     "output_type": "stream",
     "text": [
      "- The shape of the 3D array: (2, 7, 5)\n",
      "- The shape of the 2D array: (7, 5)\n",
      "- The shape of the product array: (2, 7, 5)\n",
      "- The product array: \n",
      " [[[ 0.     0.946  0.352  2.357  2.025]\n",
      "  [ 4.137  2.249  2.166  2.897  1.331]\n",
      "  [ 0.537  4.696  7.545  1.38   9.724]\n",
      "  [ 5.265 15.845 15.675 17.621  1.574]\n",
      "  [13.077 15.23  18.585 13.154  6.848]\n",
      "  [24.412 23.177  3.753  9.498 12.963]\n",
      "  [ 1.631  0.184  6.598 10.268 28.186]]\n",
      "\n",
      " [[ 5.381 34.072  6.514 29.85  19.74 ]\n",
      "  [33.096 15.371 12.995 15.574  6.506]\n",
      "  [ 2.416 19.636 29.55   5.096 34.035]\n",
      "  [17.55  50.507 47.947 51.885  4.474]\n",
      "  [35.96  40.612 48.152 33.171 16.835]\n",
      "  [58.589 54.376  8.618 21.371 28.608]\n",
      "  [ 3.534  0.393 13.815 21.159 57.201]]]\n"
     ]
    }
   ],
   "source": [
    "# Multiplying a 2D and 3D arrays (element by element multiplication)\n",
    "print(f\"- The shape of the 3D array: {my_3D_array.shape}\")\n",
    "print(f\"- The shape of the 2D array: {my_random_2D_array.shape}\")\n",
    "product_array = my_3D_array * my_random_2D_array\n",
    "print(f\"- The shape of the product array: {product_array.shape}\")\n",
    "print(f\"- The product array: \\n {product_array}\")"
   ]
  },
  {
   "cell_type": "markdown",
   "metadata": {},
   "source": [
    "#### Dividing arrays of different dimensions"
   ]
  },
  {
   "cell_type": "code",
   "execution_count": 55,
   "metadata": {},
   "outputs": [
    {
     "data": {
      "text/plain": [
       "array([-1,  7, 14, 21, 28])"
      ]
     },
     "execution_count": 55,
     "metadata": {},
     "output_type": "execute_result"
    }
   ],
   "source": [
    "# Vector to use for the division\n",
    "my_vector = np.arange(5) * 7\n",
    "my_vector[0] = -1\n",
    "my_vector"
   ]
  },
  {
   "cell_type": "code",
   "execution_count": 59,
   "metadata": {},
   "outputs": [
    {
     "name": "stdout",
     "output_type": "stream",
     "text": [
      "- The 3D array: \n",
      " [[[ 0  1  2  3  4]\n",
      "  [ 5  6  7  8  9]\n",
      "  [10 11 12 13 14]\n",
      "  [15 16 17 18 19]\n",
      "  [20 21 22 23 24]\n",
      "  [25 26 27 28 29]\n",
      "  [30 31 32 33 34]]\n",
      "\n",
      " [[35 36 37 38 39]\n",
      "  [40 41 42 43 44]\n",
      "  [45 46 47 48 49]\n",
      "  [50 51 52 53 54]\n",
      "  [55 56 57 58 59]\n",
      "  [60 61 62 63 64]\n",
      "  [65 66 67 68 69]]]\n",
      "- The 1D array: \n",
      " [-1  7 14 21 28]\n",
      "- The array resulting from division: \n",
      " [[[ -0.     0.14   0.14   0.14   0.14]\n",
      "  [ -5.     0.86   0.5    0.38   0.32]\n",
      "  [-10.     1.57   0.86   0.62   0.5 ]\n",
      "  [-15.     2.29   1.21   0.86   0.68]\n",
      "  [-20.     3.     1.57   1.1    0.86]\n",
      "  [-25.     3.71   1.93   1.33   1.04]\n",
      "  [-30.     4.43   2.29   1.57   1.21]]\n",
      "\n",
      " [[-35.     5.14   2.64   1.81   1.39]\n",
      "  [-40.     5.86   3.     2.05   1.57]\n",
      "  [-45.     6.57   3.36   2.29   1.75]\n",
      "  [-50.     7.29   3.71   2.52   1.93]\n",
      "  [-55.     8.     4.07   2.76   2.11]\n",
      "  [-60.     8.71   4.43   3.     2.29]\n",
      "  [-65.     9.43   4.79   3.24   2.46]]]\n"
     ]
    }
   ],
   "source": [
    "# Dividing a 3D arrays by a 1D array (element by element division)\n",
    "np.set_printoptions(precision=2)\n",
    "print(f\"- The 3D array: \\n {my_3D_array}\")\n",
    "print(f\"- The 1D array: \\n {my_vector}\")\n",
    "print(f\"- The array resulting from division: \\n {my_3D_array / my_vector}\")\n",
    "#my_3D_array / my_vector"
   ]
  },
  {
   "cell_type": "code",
   "execution_count": 58,
   "metadata": {},
   "outputs": [
    {
     "data": {
      "text/plain": [
       "array([[[ 0,  1,  2,  3,  4],\n",
       "        [ 0,  6,  7,  8,  9],\n",
       "        [ 0,  4, 12, 13, 14],\n",
       "        [ 0,  2,  3, 18, 19],\n",
       "        [ 0,  0,  8,  2, 24],\n",
       "        [ 0,  5, 13,  7,  1],\n",
       "        [ 0,  3,  4, 12,  6]],\n",
       "\n",
       "       [[ 0,  1,  9, 17, 11],\n",
       "        [ 0,  6,  0,  1, 16],\n",
       "        [ 0,  4,  5,  6, 21],\n",
       "        [ 0,  2, 10, 11, 26],\n",
       "        [ 0,  0,  1, 16,  3],\n",
       "        [ 0,  5,  6,  0,  8],\n",
       "        [ 0,  3, 11,  5, 13]]], dtype=int32)"
      ]
     },
     "execution_count": 58,
     "metadata": {},
     "output_type": "execute_result"
    }
   ],
   "source": [
    "# Modulo operation\n",
    "my_3D_array % my_vector"
   ]
  },
  {
   "cell_type": "markdown",
   "metadata": {},
   "source": [
    "### 5. Creating Structured Arrays"
   ]
  },
  {
   "cell_type": "markdown",
   "metadata": {},
   "source": [
    "#### Uni-dimensional arrays"
   ]
  },
  {
   "cell_type": "code",
   "execution_count": 60,
   "metadata": {},
   "outputs": [
    {
     "data": {
      "text/plain": [
       "[('name', 'S6'), ('height', 'f8'), ('weight', 'f8'), ('age', 'i8')]"
      ]
     },
     "execution_count": 60,
     "metadata": {},
     "output_type": "execute_result"
    }
   ],
   "source": [
    "import numpy as np\n",
    "\n",
    "# Define the structure of the array\n",
    "# The 1st element is a string labelled name.\n",
    "# The 2nd element is a floating number labelled height.\n",
    "# The 3rd element is a floating number labelled weight.\n",
    "# The 4th element is an integer number labelled age.\n",
    "person_data_def = [('name','S6'),('height','f8'),('weight','f8'), ('age', 'i8')]\n",
    "person_data_def"
   ]
  },
  {
   "cell_type": "code",
   "execution_count": 61,
   "metadata": {},
   "outputs": [
    {
     "data": {
      "text/plain": [
       "array([(b'', 0., 0., 0), (b'', 0., 0., 0), (b'', 0., 0., 0),\n",
       "       (b'', 0., 0., 0)],\n",
       "      dtype=[('name', 'S6'), ('height', '<f8'), ('weight', '<f8'), ('age', '<i8')])"
      ]
     },
     "execution_count": 61,
     "metadata": {},
     "output_type": "execute_result"
    }
   ],
   "source": [
    "# Create an array that has the above structure\n",
    "people_array = np.zeros((4,), dtype=person_data_def)\n",
    "people_array"
   ]
  },
  {
   "cell_type": "code",
   "execution_count": 62,
   "metadata": {},
   "outputs": [
    {
     "data": {
      "text/plain": [
       "array([(b'Alpha', 65., 112., 23), (b'',  0.,   0.,  0),\n",
       "       (b'',  0.,   0.,  0), (b'Delta', 73., 205., 34)],\n",
       "      dtype=[('name', 'S6'), ('height', '<f8'), ('weight', '<f8'), ('age', '<i8')])"
      ]
     },
     "execution_count": 62,
     "metadata": {},
     "output_type": "execute_result"
    }
   ],
   "source": [
    "# Modify some of its elements\n",
    "people_array[3] = ('Delta', 73, 205, 34)\n",
    "people_array[0] = ('Alpha', 65, 112, 23)\n",
    "people_array"
   ]
  },
  {
   "cell_type": "code",
   "execution_count": 63,
   "metadata": {},
   "outputs": [
    {
     "data": {
      "text/plain": [
       "array([(b'',  0.,   0.,  0), (b'Delta', 73., 205., 34)],\n",
       "      dtype=[('name', 'S6'), ('height', '<f8'), ('weight', '<f8'), ('age', '<i8')])"
      ]
     },
     "execution_count": 63,
     "metadata": {},
     "output_type": "execute_result"
    }
   ],
   "source": [
    "# Select/display some elements of the array\n",
    "people_array[2:]"
   ]
  },
  {
   "cell_type": "code",
   "execution_count": 64,
   "metadata": {},
   "outputs": [
    {
     "data": {
      "text/plain": [
       "array([23,  0,  0, 34], dtype=int64)"
      ]
     },
     "execution_count": 64,
     "metadata": {},
     "output_type": "execute_result"
    }
   ],
   "source": [
    "# Extract all the available values of a specific attribute (here age)\n",
    "ages = people_array['age']\n",
    "ages"
   ]
  },
  {
   "cell_type": "markdown",
   "metadata": {},
   "source": [
    "#### Multi-dimensional structured arrays"
   ]
  },
  {
   "cell_type": "code",
   "execution_count": 66,
   "metadata": {},
   "outputs": [
    {
     "data": {
      "text/plain": [
       "array([[[(b'', 0., 0., 0), (b'', 0., 0., 0)],\n",
       "        [(b'', 0., 0., 0), (b'', 0., 0., 0)],\n",
       "        [(b'', 0., 0., 0), (b'', 0., 0., 0)]],\n",
       "\n",
       "       [[(b'', 0., 0., 0), (b'', 0., 0., 0)],\n",
       "        [(b'', 0., 0., 0), (b'', 0., 0., 0)],\n",
       "        [(b'', 0., 0., 0), (b'', 0., 0., 0)]],\n",
       "\n",
       "       [[(b'', 0., 0., 0), (b'', 0., 0., 0)],\n",
       "        [(b'', 0., 0., 0), (b'', 0., 0., 0)],\n",
       "        [(b'', 0., 0., 0), (b'', 0., 0., 0)]],\n",
       "\n",
       "       [[(b'', 0., 0., 0), (b'', 0., 0., 0)],\n",
       "        [(b'', 0., 0., 0), (b'', 0., 0., 0)],\n",
       "        [(b'', 0., 0., 0), (b'', 0., 0., 0)]]],\n",
       "      dtype=[('name', 'S6'), ('height', '<f8'), ('weight', '<f8'), ('age', '<i8')])"
      ]
     },
     "execution_count": 66,
     "metadata": {},
     "output_type": "execute_result"
    }
   ],
   "source": [
    "# Create a multi-dimensional array that has the above structure\n",
    "people_big_array = np.zeros((4,3,2), dtype=person_data_def)\n",
    "people_big_array"
   ]
  },
  {
   "cell_type": "code",
   "execution_count": 67,
   "metadata": {},
   "outputs": [
    {
     "data": {
      "text/plain": [
       "array([[[(b'',  0.,   0.,  0), (b'',  0.,   0.,  0)],\n",
       "        [(b'',  0.,   0.,  0), (b'',  0.,   0.,  0)],\n",
       "        [(b'',  0.,   0.,  0), (b'',  0.,   0.,  0)]],\n",
       "\n",
       "       [[(b'',  0.,   0.,  0), (b'',  0.,   0.,  0)],\n",
       "        [(b'',  0.,   0.,  0), (b'',  0.,   0.,  0)],\n",
       "        [(b'',  0.,   0.,  0), (b'',  0.,   0.,  0)]],\n",
       "\n",
       "       [[(b'',  0.,   0.,  0), (b'',  0.,   0.,  0)],\n",
       "        [(b'',  0.,   0.,  0), (b'',  0.,   0.,  0)],\n",
       "        [(b'',  0.,   0.,  0), (b'',  0.,   0.,  0)]],\n",
       "\n",
       "       [[(b'',  0.,   0.,  0), (b'',  0.,   0.,  0)],\n",
       "        [(b'',  0.,   0.,  0), (b'',  0.,   0.,  0)],\n",
       "        [(b'',  0.,   0.,  0), (b'Echo', 68., 155., 46)]]],\n",
       "      dtype=[('name', 'S6'), ('height', '<f8'), ('weight', '<f8'), ('age', '<i8')])"
      ]
     },
     "execution_count": 67,
     "metadata": {},
     "output_type": "execute_result"
    }
   ],
   "source": [
    "# Modify some of its elements\n",
    "people_big_array[3,2,1] = ('Echo', 68, 155, 46)\n",
    "people_big_array"
   ]
  },
  {
   "cell_type": "code",
   "execution_count": 71,
   "metadata": {},
   "outputs": [
    {
     "data": {
      "text/plain": [
       "array([[[ 0.,  0.],\n",
       "        [ 0.,  0.],\n",
       "        [ 0.,  0.]],\n",
       "\n",
       "       [[ 0.,  0.],\n",
       "        [ 0.,  0.],\n",
       "        [ 0.,  0.]],\n",
       "\n",
       "       [[ 0.,  0.],\n",
       "        [ 0.,  0.],\n",
       "        [ 0.,  0.]],\n",
       "\n",
       "       [[ 0.,  0.],\n",
       "        [ 0.,  0.],\n",
       "        [ 0., 68.]]])"
      ]
     },
     "execution_count": 71,
     "metadata": {},
     "output_type": "execute_result"
    }
   ],
   "source": [
    "# Extract all the available values of a specific attribute (here height)\n",
    "people_big_array['height']"
   ]
  },
  {
   "cell_type": "code",
   "execution_count": 70,
   "metadata": {},
   "outputs": [
    {
     "data": {
      "text/plain": [
       "array([[[( 0.,   0.), ( 0.,   0.)],\n",
       "        [( 0.,   0.), ( 0.,   0.)],\n",
       "        [( 0.,   0.), ( 0.,   0.)]],\n",
       "\n",
       "       [[( 0.,   0.), ( 0.,   0.)],\n",
       "        [( 0.,   0.), ( 0.,   0.)],\n",
       "        [( 0.,   0.), ( 0.,   0.)]],\n",
       "\n",
       "       [[( 0.,   0.), ( 0.,   0.)],\n",
       "        [( 0.,   0.), ( 0.,   0.)],\n",
       "        [( 0.,   0.), ( 0.,   0.)]],\n",
       "\n",
       "       [[( 0.,   0.), ( 0.,   0.)],\n",
       "        [( 0.,   0.), ( 0.,   0.)],\n",
       "        [( 0.,   0.), (68., 155.)]]],\n",
       "      dtype=[('height', '<f8'), ('weight', '<f8')])"
      ]
     },
     "execution_count": 70,
     "metadata": {},
     "output_type": "execute_result"
    }
   ],
   "source": [
    "# Extract all the available values of multiple attributes (here height and weight)\n",
    "people_big_array[['height', 'weight']]"
   ]
  },
  {
   "cell_type": "markdown",
   "metadata": {},
   "source": [
    "### 6. Creating Record Arrays\n",
    "\n",
    "Can make it easier to extract information based on attributes instead of indices as in structured arrays"
   ]
  },
  {
   "cell_type": "code",
   "execution_count": 72,
   "metadata": {},
   "outputs": [
    {
     "data": {
      "text/plain": [
       "rec.array([(b'Delta', 73., 205., 34), (b'Alpha', 65., 112., 23)],\n",
       "          dtype=[('name', 'S6'), ('height', '<f8'), ('weight', '<f8'), ('age', '<i8')])"
      ]
     },
     "execution_count": 72,
     "metadata": {},
     "output_type": "execute_result"
    }
   ],
   "source": [
    "# Define a record array\n",
    "person_record_array = np.rec.array([('Delta', 73, 205, 34),('Alpha', 65, 112, 23)],dtype=person_data_def)\n",
    "person_record_array"
   ]
  },
  {
   "cell_type": "code",
   "execution_count": 74,
   "metadata": {},
   "outputs": [
    {
     "data": {
      "text/plain": [
       "34"
      ]
     },
     "execution_count": 74,
     "metadata": {},
     "output_type": "execute_result"
    }
   ],
   "source": [
    "# Extract the age of the first element in the array\n",
    "person_record_array[0].age"
   ]
  },
  {
   "cell_type": "markdown",
   "metadata": {},
   "source": [
    "### 7. Views and Copies\n",
    "\n",
    "- A copy takes data from one location in memory and replicates it in a different location in memory.\n",
    "\n",
    "- A view provides two differently named references to the same location in memory"
   ]
  },
  {
   "cell_type": "markdown",
   "metadata": {},
   "source": [
    "#### Creating a copy of an array in the same memory location (a shallow copy)"
   ]
  },
  {
   "cell_type": "code",
   "execution_count": 1,
   "metadata": {},
   "outputs": [
    {
     "data": {
      "text/plain": [
       "array([-45, -31, -12,   0,   2,  25,  51,  99])"
      ]
     },
     "execution_count": 1,
     "metadata": {},
     "output_type": "execute_result"
    }
   ],
   "source": [
    "import numpy as np\n",
    "\n",
    "# Create an array to use\n",
    "mi_casa = np.array([-45, -31, -12, 0, 2, 25, 51, 99])\n",
    "mi_casa"
   ]
  },
  {
   "cell_type": "code",
   "execution_count": 7,
   "metadata": {},
   "outputs": [
    {
     "name": "stdout",
     "output_type": "stream",
     "text": [
      "- Reference equality test: True\n",
      "- Value equality test: [ True  True  True  True  True  True  True  True]\n"
     ]
    }
   ],
   "source": [
    "# Create an array equal to mi_casa\n",
    "su_casa = mi_casa\n",
    "\n",
    "# test reference equality\n",
    "print(f\"- Reference equality test: {mi_casa is su_casa}\")\n",
    "\n",
    "# test value equality\n",
    "print(f\"- Value equality test: {mi_casa == su_casa}\")"
   ]
  },
  {
   "cell_type": "code",
   "execution_count": 5,
   "metadata": {},
   "outputs": [
    {
     "name": "stdout",
     "output_type": "stream",
     "text": [
      "- The location of mi_casa is: 2555961074032\n",
      "- The location of su_casa is: 2555961074032\n"
     ]
    }
   ],
   "source": [
    "# Memory location of the two arrays\n",
    "print(f\"- The location of mi_casa is: {id(mi_casa)}\")\n",
    "print(f\"- The location of su_casa is: {id(su_casa)}\")"
   ]
  },
  {
   "cell_type": "markdown",
   "metadata": {},
   "source": [
    "#### Another way to create a shallow copy"
   ]
  },
  {
   "cell_type": "code",
   "execution_count": 19,
   "metadata": {},
   "outputs": [],
   "source": [
    "tree_house = np.array([-45, -31, -12, 0, 2, 25, 51, 99])\n",
    "farm_house = tree_house.view()\n",
    "farm_house.shape = (2,4)"
   ]
  },
  {
   "cell_type": "code",
   "execution_count": 20,
   "metadata": {},
   "outputs": [
    {
     "name": "stdout",
     "output_type": "stream",
     "text": [
      "- tree_house: [-45 -31 -12   0   2  25  51  99]\n",
      "- farm_house: [[-45 -31 -12   0]\n",
      " [  2  25  51  99]]\n"
     ]
    }
   ],
   "source": [
    "print(f\"- tree_house: {tree_house}\")\n",
    "print(f\"- farm_house: {farm_house}\")"
   ]
  },
  {
   "cell_type": "code",
   "execution_count": 21,
   "metadata": {
    "scrolled": false
   },
   "outputs": [
    {
     "name": "stdout",
     "output_type": "stream",
     "text": [
      "- tree_house: [ -45  -31  -12 -111    2   25   51   99]\n",
      "- farm_house: [[ -45  -31  -12 -111]\n",
      " [   2   25   51   99]]\n"
     ]
    }
   ],
   "source": [
    "# Changing one element in tree_house alternate the same element\n",
    "# in farm house although they have different shapes\n",
    "tree_house [3] = -111\n",
    "print(f\"- tree_house: {tree_house}\")\n",
    "print(f\"- farm_house: {farm_house}\")"
   ]
  },
  {
   "cell_type": "markdown",
   "metadata": {},
   "source": [
    "#### Creating a deep copy"
   ]
  },
  {
   "cell_type": "code",
   "execution_count": 14,
   "metadata": {},
   "outputs": [],
   "source": [
    "tree_house = np.array([-45, -31, -12, 0, 2, 25, 51, 99])\n",
    "dog_house = np.copy(tree_house)"
   ]
  },
  {
   "cell_type": "code",
   "execution_count": 15,
   "metadata": {},
   "outputs": [
    {
     "name": "stdout",
     "output_type": "stream",
     "text": [
      "- tree_house: [-45 -31 -12   0   2  25  51  99]\n",
      "- dog_house: [-45 -31 -12   0   2  25  51  99]\n"
     ]
    }
   ],
   "source": [
    "print(f\"- tree_house: {tree_house}\")\n",
    "print(f\"- dog_house: {dog_house}\")"
   ]
  },
  {
   "cell_type": "code",
   "execution_count": 23,
   "metadata": {},
   "outputs": [
    {
     "name": "stdout",
     "output_type": "stream",
     "text": [
      "- tree_house: [ -45  -31  -12 -111    2   25   51   99]\n",
      "- dog_house: [-121  -31  -12    0    2   25   51   99]\n"
     ]
    }
   ],
   "source": [
    "# Changing one element in dog_house DOESN'T alternate the same element\n",
    "# in tree house\n",
    "dog_house[0] = -121\n",
    "print(f\"- tree_house: {tree_house}\")\n",
    "print(f\"- dog_house: {dog_house}\")"
   ]
  },
  {
   "cell_type": "markdown",
   "metadata": {},
   "source": [
    "### 8. Adding and Removing Elements from NumPy Arrays\n",
    "- append\n",
    "- horizontal stacking\n",
    "- vertical stacking\n",
    "- insert\n",
    "- delete"
   ]
  },
  {
   "cell_type": "markdown",
   "metadata": {},
   "source": [
    "#### Append an array to another array of a different shape"
   ]
  },
  {
   "cell_type": "code",
   "execution_count": 2,
   "metadata": {},
   "outputs": [
    {
     "data": {
      "text/plain": [
       "array([[[ 0,  1,  2,  3],\n",
       "        [ 4,  5,  6,  7],\n",
       "        [ 8,  9, 10, 11]],\n",
       "\n",
       "       [[12, 13, 14, 15],\n",
       "        [16, 17, 18, 19],\n",
       "        [20, 21, 22, 23]]])"
      ]
     },
     "execution_count": 2,
     "metadata": {},
     "output_type": "execute_result"
    }
   ],
   "source": [
    "import numpy as np\n",
    "\n",
    "# Create an array to start with\n",
    "a = np.array(np.arange(24)).reshape(2,3,4)\n",
    "a"
   ]
  },
  {
   "cell_type": "code",
   "execution_count": 3,
   "metadata": {},
   "outputs": [
    {
     "data": {
      "text/plain": [
       "array([ 0,  1,  2,  3,  4,  5,  6,  7,  8,  9, 10, 11, 12, 13, 14, 15, 16,\n",
       "       17, 18, 19, 20, 21, 22, 23,  5,  6,  7,  8])"
      ]
     },
     "execution_count": 3,
     "metadata": {},
     "output_type": "execute_result"
    }
   ],
   "source": [
    "# A vector is obtained if we append a vector to the multi-dimensional array \n",
    "b = np.append(a, [5,6,7,8])\n",
    "b"
   ]
  },
  {
   "cell_type": "markdown",
   "metadata": {},
   "source": [
    "#### Append on a specific axis"
   ]
  },
  {
   "cell_type": "code",
   "execution_count": 4,
   "metadata": {},
   "outputs": [
    {
     "name": "stdout",
     "output_type": "stream",
     "text": [
      "- a is:\n",
      " [[[ 0  1  2  3]\n",
      "  [ 4  5  6  7]\n",
      "  [ 8  9 10 11]]\n",
      "\n",
      " [[12 13 14 15]\n",
      "  [16 17 18 19]\n",
      "  [20 21 22 23]]]\n",
      "- c is:\n",
      " [[[  3  13  23  33]\n",
      "  [ 43  53  63  73]\n",
      "  [ 83  93 103 113]]\n",
      "\n",
      " [[123 133 143 153]\n",
      "  [163 173 183 193]\n",
      "  [203 213 223 233]]]\n"
     ]
    }
   ],
   "source": [
    "# First create an array of the same shape as \"a\"\n",
    "c = np.array(np.arange(24)).reshape(2,3,4) * 10 + 3\n",
    "print(f\"- a is:\\n {a}\")\n",
    "print(f\"- c is:\\n {c}\")"
   ]
  },
  {
   "cell_type": "code",
   "execution_count": 5,
   "metadata": {},
   "outputs": [
    {
     "data": {
      "text/plain": [
       "array([[[  0,   1,   2,   3],\n",
       "        [  4,   5,   6,   7],\n",
       "        [  8,   9,  10,  11]],\n",
       "\n",
       "       [[ 12,  13,  14,  15],\n",
       "        [ 16,  17,  18,  19],\n",
       "        [ 20,  21,  22,  23]],\n",
       "\n",
       "       [[  3,  13,  23,  33],\n",
       "        [ 43,  53,  63,  73],\n",
       "        [ 83,  93, 103, 113]],\n",
       "\n",
       "       [[123, 133, 143, 153],\n",
       "        [163, 173, 183, 193],\n",
       "        [203, 213, 223, 233]]])"
      ]
     },
     "execution_count": 5,
     "metadata": {},
     "output_type": "execute_result"
    }
   ],
   "source": [
    "# Append on the first axis\n",
    "a0 = np.append(a,c, axis=0)\n",
    "a0"
   ]
  },
  {
   "cell_type": "code",
   "execution_count": 6,
   "metadata": {},
   "outputs": [
    {
     "data": {
      "text/plain": [
       "array([[[  0,   1,   2,   3],\n",
       "        [  4,   5,   6,   7],\n",
       "        [  8,   9,  10,  11],\n",
       "        [  3,  13,  23,  33],\n",
       "        [ 43,  53,  63,  73],\n",
       "        [ 83,  93, 103, 113]],\n",
       "\n",
       "       [[ 12,  13,  14,  15],\n",
       "        [ 16,  17,  18,  19],\n",
       "        [ 20,  21,  22,  23],\n",
       "        [123, 133, 143, 153],\n",
       "        [163, 173, 183, 193],\n",
       "        [203, 213, 223, 233]]])"
      ]
     },
     "execution_count": 6,
     "metadata": {},
     "output_type": "execute_result"
    }
   ],
   "source": [
    "# Append on the second axis\n",
    "a1 = np.append(a,c, axis=1)\n",
    "a1"
   ]
  },
  {
   "cell_type": "code",
   "execution_count": 7,
   "metadata": {},
   "outputs": [
    {
     "data": {
      "text/plain": [
       "array([[[  0,   1,   2,   3,   3,  13,  23,  33],\n",
       "        [  4,   5,   6,   7,  43,  53,  63,  73],\n",
       "        [  8,   9,  10,  11,  83,  93, 103, 113]],\n",
       "\n",
       "       [[ 12,  13,  14,  15, 123, 133, 143, 153],\n",
       "        [ 16,  17,  18,  19, 163, 173, 183, 193],\n",
       "        [ 20,  21,  22,  23, 203, 213, 223, 233]]])"
      ]
     },
     "execution_count": 7,
     "metadata": {},
     "output_type": "execute_result"
    }
   ],
   "source": [
    "# Append on the third axis\n",
    "a2 = np.append(a,c, axis=2)\n",
    "a2"
   ]
  },
  {
   "cell_type": "markdown",
   "metadata": {},
   "source": [
    "#### horizontal stacking"
   ]
  },
  {
   "cell_type": "code",
   "execution_count": 8,
   "metadata": {},
   "outputs": [
    {
     "name": "stdout",
     "output_type": "stream",
     "text": [
      "- a is:\n",
      " [[[ 0  1  2  3]\n",
      "  [ 4  5  6  7]\n",
      "  [ 8  9 10 11]]\n",
      "\n",
      " [[12 13 14 15]\n",
      "  [16 17 18 19]\n",
      "  [20 21 22 23]]]\n",
      "- c is:\n",
      " [[[  3  13  23  33]\n",
      "  [ 43  53  63  73]\n",
      "  [ 83  93 103 113]]\n",
      "\n",
      " [[123 133 143 153]\n",
      "  [163 173 183 193]\n",
      "  [203 213 223 233]]]\n"
     ]
    }
   ],
   "source": [
    "# We will use the previously defined arrays a and c\n",
    "print(f\"- a is:\\n {a}\")\n",
    "print(f\"- c is:\\n {c}\")"
   ]
  },
  {
   "cell_type": "code",
   "execution_count": 9,
   "metadata": {},
   "outputs": [
    {
     "data": {
      "text/plain": [
       "array([[[  0,   1,   2,   3],\n",
       "        [  4,   5,   6,   7],\n",
       "        [  8,   9,  10,  11],\n",
       "        [  3,  13,  23,  33],\n",
       "        [ 43,  53,  63,  73],\n",
       "        [ 83,  93, 103, 113]],\n",
       "\n",
       "       [[ 12,  13,  14,  15],\n",
       "        [ 16,  17,  18,  19],\n",
       "        [ 20,  21,  22,  23],\n",
       "        [123, 133, 143, 153],\n",
       "        [163, 173, 183, 193],\n",
       "        [203, 213, 223, 233]]])"
      ]
     },
     "execution_count": 9,
     "metadata": {},
     "output_type": "execute_result"
    }
   ],
   "source": [
    "# Horizontaly stack a and c\n",
    "my_hay_stack = np.hstack((a,c))\n",
    "my_hay_stack"
   ]
  },
  {
   "cell_type": "markdown",
   "metadata": {},
   "source": [
    "#### Inserting along a specific axis"
   ]
  },
  {
   "cell_type": "code",
   "execution_count": 10,
   "metadata": {},
   "outputs": [
    {
     "data": {
      "text/plain": [
       "array([[[  3,  13,  23,  33],\n",
       "        [ 43,  53,  63,  73],\n",
       "        [ 83,  93, 103, 113]],\n",
       "\n",
       "       [[444, 444, 444, 444],\n",
       "        [444, 444, 444, 444],\n",
       "        [444, 444, 444, 444]],\n",
       "\n",
       "       [[123, 133, 143, 153],\n",
       "        [163, 173, 183, 193],\n",
       "        [203, 213, 223, 233]]])"
      ]
     },
     "execution_count": 10,
     "metadata": {},
     "output_type": "execute_result"
    }
   ],
   "source": [
    "# Insert along the first axis\n",
    "after_insert_array = np.insert(c, 1, 444, axis=0)\n",
    "after_insert_array"
   ]
  },
  {
   "cell_type": "code",
   "execution_count": 11,
   "metadata": {},
   "outputs": [
    {
     "data": {
      "text/plain": [
       "array([[[  3,  13,  23,  33],\n",
       "        [444, 444, 444, 444],\n",
       "        [ 43,  53,  63,  73],\n",
       "        [ 83,  93, 103, 113]],\n",
       "\n",
       "       [[123, 133, 143, 153],\n",
       "        [444, 444, 444, 444],\n",
       "        [163, 173, 183, 193],\n",
       "        [203, 213, 223, 233]]])"
      ]
     },
     "execution_count": 11,
     "metadata": {},
     "output_type": "execute_result"
    }
   ],
   "source": [
    "# Insert along the second axis\n",
    "np.insert(c, 1, 444, axis=1)"
   ]
  },
  {
   "cell_type": "code",
   "execution_count": 12,
   "metadata": {},
   "outputs": [
    {
     "data": {
      "text/plain": [
       "array([[[  3, 444,  13,  23,  33],\n",
       "        [ 43, 444,  53,  63,  73],\n",
       "        [ 83, 444,  93, 103, 113]],\n",
       "\n",
       "       [[123, 444, 133, 143, 153],\n",
       "        [163, 444, 173, 183, 193],\n",
       "        [203, 444, 213, 223, 233]]])"
      ]
     },
     "execution_count": 12,
     "metadata": {},
     "output_type": "execute_result"
    }
   ],
   "source": [
    "# Insert along the third axis\n",
    "np.insert(c, 1, 444, axis=2)"
   ]
  },
  {
   "cell_type": "markdown",
   "metadata": {},
   "source": [
    "#### Delete a vector (e.g., row or column) along a specific axis"
   ]
  },
  {
   "cell_type": "code",
   "execution_count": 13,
   "metadata": {},
   "outputs": [
    {
     "data": {
      "text/plain": [
       "array([[[   3.,   13.,   23.,   33.],\n",
       "        [  43.,   53.,   63.,   73.],\n",
       "        [  83.,   93.,  103.,  113.]],\n",
       "\n",
       "       [[ 123.,  133.,  143.,  153.],\n",
       "        [ 163.,  173.,  183.,  193.],\n",
       "        [ 203.,  213.,  223.,  233.]]])"
      ]
     },
     "execution_count": 13,
     "metadata": {},
     "output_type": "execute_result"
    }
   ],
   "source": [
    "# First we create an array to work with by copying c\n",
    "d = np.empty(c.shape)\n",
    "np.copyto(d, c)\n",
    "d"
   ]
  },
  {
   "cell_type": "code",
   "execution_count": 17,
   "metadata": {},
   "outputs": [
    {
     "data": {
      "text/plain": [
       "array([[[   3.,   13.,   23.,   33.],\n",
       "        [  43.,   53.,   63.,   73.],\n",
       "        [  83.,   93.,  103.,  113.]]])"
      ]
     },
     "execution_count": 17,
     "metadata": {},
     "output_type": "execute_result"
    }
   ],
   "source": [
    "# Delete the second sub-array along the 1st dimension\n",
    "e = np.delete(d, 1, axis=0)\n",
    "e"
   ]
  },
  {
   "cell_type": "code",
   "execution_count": 18,
   "metadata": {},
   "outputs": [
    {
     "data": {
      "text/plain": [
       "array([[[   3.,   13.,   23.,   33.],\n",
       "        [  43.,   53.,   63.,   73.],\n",
       "        [  83.,   93.,  103.,  113.]],\n",
       "\n",
       "       [[ 123.,  133.,  143.,  153.],\n",
       "        [ 163.,  173.,  183.,  193.],\n",
       "        [ 203.,  213.,  223.,  233.]]])"
      ]
     },
     "execution_count": 18,
     "metadata": {},
     "output_type": "execute_result"
    }
   ],
   "source": [
    "# Delete doesn't change the original element\n",
    "d"
   ]
  },
  {
   "cell_type": "code",
   "execution_count": 19,
   "metadata": {},
   "outputs": [
    {
     "data": {
      "text/plain": [
       "array([[[   3.,   13.,   23.,   33.],\n",
       "        [  83.,   93.,  103.,  113.]],\n",
       "\n",
       "       [[ 123.,  133.,  143.,  153.],\n",
       "        [ 203.,  213.,  223.,  233.]]])"
      ]
     },
     "execution_count": 19,
     "metadata": {},
     "output_type": "execute_result"
    }
   ],
   "source": [
    "# Delete along the 2nd dimension\n",
    "e = np.delete(d, 1, axis=1)\n",
    "e"
   ]
  },
  {
   "cell_type": "code",
   "execution_count": 20,
   "metadata": {},
   "outputs": [
    {
     "data": {
      "text/plain": [
       "array([[[   3.,   23.,   33.],\n",
       "        [  43.,   63.,   73.],\n",
       "        [  83.,  103.,  113.]],\n",
       "\n",
       "       [[ 123.,  143.,  153.],\n",
       "        [ 163.,  183.,  193.],\n",
       "        [ 203.,  223.,  233.]]])"
      ]
     },
     "execution_count": 20,
     "metadata": {},
     "output_type": "execute_result"
    }
   ],
   "source": [
    "# Delete along the 3rd dimension\n",
    "e = np.delete(d, 1, axis=2)\n",
    "e"
   ]
  },
  {
   "cell_type": "markdown",
   "metadata": {},
   "source": [
    "### 9. Joining and Splitting arrays\n",
    "- concatenate\n",
    "- stack\n",
    "- split"
   ]
  },
  {
   "cell_type": "markdown",
   "metadata": {},
   "source": [
    "#### Concatenate along the first axis\n",
    "documentation: http://docs.scipy.org/doc/numpy/reference/generated/numpy.concatenate.html"
   ]
  },
  {
   "cell_type": "code",
   "execution_count": 21,
   "metadata": {},
   "outputs": [
    {
     "name": "stdout",
     "output_type": "stream",
     "text": [
      "- a is:\n",
      " [[1 2]\n",
      " [3 4]]\n",
      "- b is:\n",
      " [[5 6]]\n"
     ]
    }
   ],
   "source": [
    "import numpy as np\n",
    "\n",
    "# Create arrays to use\n",
    "a = np.array([[1, 2], [3, 4]])\n",
    "b = np.array([[5, 6]])\n",
    "print(f\"- a is:\\n {a}\")\n",
    "print(f\"- b is:\\n {b}\")"
   ]
  },
  {
   "cell_type": "code",
   "execution_count": 22,
   "metadata": {},
   "outputs": [
    {
     "data": {
      "text/plain": [
       "array([[1, 2],\n",
       "       [3, 4],\n",
       "       [5, 6]])"
      ]
     },
     "execution_count": 22,
     "metadata": {},
     "output_type": "execute_result"
    }
   ],
   "source": [
    "# Concatenate a and b along the first axis\n",
    "together = np.concatenate((a, b), axis=0)\n",
    "together"
   ]
  },
  {
   "cell_type": "markdown",
   "metadata": {},
   "source": [
    "#### Concatenate along the second axis"
   ]
  },
  {
   "cell_type": "code",
   "execution_count": 23,
   "metadata": {},
   "outputs": [
    {
     "data": {
      "text/plain": [
       "array([[ 8, 11],\n",
       "       [14, 17]])"
      ]
     },
     "execution_count": 23,
     "metadata": {},
     "output_type": "execute_result"
    }
   ],
   "source": [
    "# Create a new array\n",
    "c = np.array([[1, 2], [3, 4]]) *3 + 5\n",
    "c"
   ]
  },
  {
   "cell_type": "code",
   "execution_count": 24,
   "metadata": {},
   "outputs": [
    {
     "data": {
      "text/plain": [
       "array([[ 1,  2,  8, 11],\n",
       "       [ 3,  4, 14, 17]])"
      ]
     },
     "execution_count": 24,
     "metadata": {},
     "output_type": "execute_result"
    }
   ],
   "source": [
    "# Concatenate a and b along the second axis\n",
    "np.concatenate((a, c), axis=1)"
   ]
  },
  {
   "cell_type": "markdown",
   "metadata": {},
   "source": [
    "#### Stack along a certain axis\n",
    "\n",
    "Join a sequence of arrays along a new axis."
   ]
  },
  {
   "cell_type": "code",
   "execution_count": 27,
   "metadata": {},
   "outputs": [
    {
     "data": {
      "text/plain": [
       "array([[[ -1.18757848e+00,  -7.91187933e-01,   7.02430216e-01,\n",
       "           1.99311768e+00],\n",
       "        [ -7.79279553e-01,  -8.68321983e-01,   9.84969259e-01,\n",
       "          -1.50330293e+00],\n",
       "        [  9.70289813e-01,   1.28465103e+00,   1.56144177e+00,\n",
       "          -1.79158023e-01]],\n",
       "\n",
       "       [[  1.06989763e+00,  -4.36415783e-01,   2.28594800e-01,\n",
       "          -5.94739925e-01],\n",
       "        [  1.14627666e+00,   5.24971640e-01,   5.97482241e-01,\n",
       "          -1.15890587e+00],\n",
       "        [  4.91227783e-01,   8.64914780e-01,   2.75329919e-01,\n",
       "          -1.02358379e+00]],\n",
       "\n",
       "       [[ -1.55908750e-01,   8.00559122e-01,   5.29809717e-01,\n",
       "           5.99034948e-01],\n",
       "        [  6.02226333e-01,  -3.06664144e-01,   5.05991975e-01,\n",
       "           1.06283019e+00],\n",
       "        [ -3.87990567e-01,  -2.50742057e-01,   1.84735730e-03,\n",
       "           6.54435698e-01]],\n",
       "\n",
       "       [[ -1.49093206e+00,   9.52493841e-01,   2.13022915e-02,\n",
       "           2.02072982e+00],\n",
       "        [  1.29165081e+00,   8.70727890e-01,  -2.19943252e+00,\n",
       "           1.08072701e-01],\n",
       "        [ -2.28571420e-01,   1.29973931e-01,   8.23276176e-01,\n",
       "           8.92589437e-02]],\n",
       "\n",
       "       [[ -7.66375314e-02,  -6.59462112e-01,  -6.96985895e-01,\n",
       "          -1.75645967e+00],\n",
       "        [ -2.29347154e-01,  -2.44364560e-01,   4.65407882e-01,\n",
       "          -1.62050668e-02],\n",
       "        [ -1.25046804e-01,  -3.46722255e-01,   2.43813797e-01,\n",
       "           1.05996498e+00]]])"
      ]
     },
     "execution_count": 27,
     "metadata": {},
     "output_type": "execute_result"
    }
   ],
   "source": [
    "# Create a three-dimensional array\n",
    "arrays = np.zeros((5,3,4))\n",
    "for n in range(5):\n",
    "    arrays[n] = np.random.randn(3, 4)  \n",
    "arrays"
   ]
  },
  {
   "cell_type": "code",
   "execution_count": 40,
   "metadata": {},
   "outputs": [
    {
     "name": "stdout",
     "output_type": "stream",
     "text": [
      "- Shape of arrays: (5, 3, 4)\n",
      "- Shape of stack0: (5, 3, 4)\n",
      "- Shape of stack1: (3, 5, 4)\n",
      "- Shape of stack2: (3, 4, 5)\n"
     ]
    }
   ],
   "source": [
    "# Create three arrays by stacking \"arrays\" along each of the three axis \n",
    "stack0 = np.stack(arrays, axis=0)\n",
    "stack1 = np.stack(arrays, axis=1)\n",
    "stack2 = np.stack(arrays, axis=2)\n",
    "\n",
    "# Check the shapes of the arrays\n",
    "print(f\"- Shape of arrays: {arrays.shape}\\n\"\n",
    "      f\"- Shape of stack0: {stack0.shape}\\n\" \n",
    "      f\"- Shape of stack1: {stack1.shape}\\n\" \n",
    "      f\"- Shape of stack2: {stack2.shape}\")\n"
   ]
  },
  {
   "cell_type": "code",
   "execution_count": 47,
   "metadata": {},
   "outputs": [
    {
     "name": "stdout",
     "output_type": "stream",
     "text": [
      "- original array:\n",
      " [[[ -1.18757848e+00  -7.91187933e-01   7.02430216e-01   1.99311768e+00]\n",
      "  [ -7.79279553e-01  -8.68321983e-01   9.84969259e-01  -1.50330293e+00]\n",
      "  [  9.70289813e-01   1.28465103e+00   1.56144177e+00  -1.79158023e-01]]\n",
      "\n",
      " [[  1.06989763e+00  -4.36415783e-01   2.28594800e-01  -5.94739925e-01]\n",
      "  [  1.14627666e+00   5.24971640e-01   5.97482241e-01  -1.15890587e+00]\n",
      "  [  4.91227783e-01   8.64914780e-01   2.75329919e-01  -1.02358379e+00]]\n",
      "\n",
      " [[ -1.55908750e-01   8.00559122e-01   5.29809717e-01   5.99034948e-01]\n",
      "  [  6.02226333e-01  -3.06664144e-01   5.05991975e-01   1.06283019e+00]\n",
      "  [ -3.87990567e-01  -2.50742057e-01   1.84735730e-03   6.54435698e-01]]\n",
      "\n",
      " [[ -1.49093206e+00   9.52493841e-01   2.13022915e-02   2.02072982e+00]\n",
      "  [  1.29165081e+00   8.70727890e-01  -2.19943252e+00   1.08072701e-01]\n",
      "  [ -2.28571420e-01   1.29973931e-01   8.23276176e-01   8.92589437e-02]]\n",
      "\n",
      " [[ -7.66375314e-02  -6.59462112e-01  -6.96985895e-01  -1.75645967e+00]\n",
      "  [ -2.29347154e-01  -2.44364560e-01   4.65407882e-01  -1.62050668e-02]\n",
      "  [ -1.25046804e-01  -3.46722255e-01   2.43813797e-01   1.05996498e+00]]]\n",
      "\n",
      "\n",
      "- Stacked array along the first axis:\n",
      " [[[ -1.18757848e+00  -7.91187933e-01   7.02430216e-01   1.99311768e+00]\n",
      "  [ -7.79279553e-01  -8.68321983e-01   9.84969259e-01  -1.50330293e+00]\n",
      "  [  9.70289813e-01   1.28465103e+00   1.56144177e+00  -1.79158023e-01]]\n",
      "\n",
      " [[  1.06989763e+00  -4.36415783e-01   2.28594800e-01  -5.94739925e-01]\n",
      "  [  1.14627666e+00   5.24971640e-01   5.97482241e-01  -1.15890587e+00]\n",
      "  [  4.91227783e-01   8.64914780e-01   2.75329919e-01  -1.02358379e+00]]\n",
      "\n",
      " [[ -1.55908750e-01   8.00559122e-01   5.29809717e-01   5.99034948e-01]\n",
      "  [  6.02226333e-01  -3.06664144e-01   5.05991975e-01   1.06283019e+00]\n",
      "  [ -3.87990567e-01  -2.50742057e-01   1.84735730e-03   6.54435698e-01]]\n",
      "\n",
      " [[ -1.49093206e+00   9.52493841e-01   2.13022915e-02   2.02072982e+00]\n",
      "  [  1.29165081e+00   8.70727890e-01  -2.19943252e+00   1.08072701e-01]\n",
      "  [ -2.28571420e-01   1.29973931e-01   8.23276176e-01   8.92589437e-02]]\n",
      "\n",
      " [[ -7.66375314e-02  -6.59462112e-01  -6.96985895e-01  -1.75645967e+00]\n",
      "  [ -2.29347154e-01  -2.44364560e-01   4.65407882e-01  -1.62050668e-02]\n",
      "  [ -1.25046804e-01  -3.46722255e-01   2.43813797e-01   1.05996498e+00]]]\n"
     ]
    }
   ],
   "source": [
    "# Display stack0\n",
    "print(f\"- original array:\\n {arrays}\")\n",
    "print(\"\\n\")\n",
    "print(f\"- Stacked array along the first axis:\\n {stack0}\")"
   ]
  },
  {
   "cell_type": "code",
   "execution_count": 45,
   "metadata": {},
   "outputs": [
    {
     "name": "stdout",
     "output_type": "stream",
     "text": [
      "- original array:\n",
      " [[[ -1.18757848e+00  -7.91187933e-01   7.02430216e-01   1.99311768e+00]\n",
      "  [ -7.79279553e-01  -8.68321983e-01   9.84969259e-01  -1.50330293e+00]\n",
      "  [  9.70289813e-01   1.28465103e+00   1.56144177e+00  -1.79158023e-01]]\n",
      "\n",
      " [[  1.06989763e+00  -4.36415783e-01   2.28594800e-01  -5.94739925e-01]\n",
      "  [  1.14627666e+00   5.24971640e-01   5.97482241e-01  -1.15890587e+00]\n",
      "  [  4.91227783e-01   8.64914780e-01   2.75329919e-01  -1.02358379e+00]]\n",
      "\n",
      " [[ -1.55908750e-01   8.00559122e-01   5.29809717e-01   5.99034948e-01]\n",
      "  [  6.02226333e-01  -3.06664144e-01   5.05991975e-01   1.06283019e+00]\n",
      "  [ -3.87990567e-01  -2.50742057e-01   1.84735730e-03   6.54435698e-01]]\n",
      "\n",
      " [[ -1.49093206e+00   9.52493841e-01   2.13022915e-02   2.02072982e+00]\n",
      "  [  1.29165081e+00   8.70727890e-01  -2.19943252e+00   1.08072701e-01]\n",
      "  [ -2.28571420e-01   1.29973931e-01   8.23276176e-01   8.92589437e-02]]\n",
      "\n",
      " [[ -7.66375314e-02  -6.59462112e-01  -6.96985895e-01  -1.75645967e+00]\n",
      "  [ -2.29347154e-01  -2.44364560e-01   4.65407882e-01  -1.62050668e-02]\n",
      "  [ -1.25046804e-01  -3.46722255e-01   2.43813797e-01   1.05996498e+00]]]\n",
      "\n",
      "\n",
      "- Stacked array along the second axis:\n",
      " [[[ -1.18757848e+00  -7.91187933e-01   7.02430216e-01   1.99311768e+00]\n",
      "  [  1.06989763e+00  -4.36415783e-01   2.28594800e-01  -5.94739925e-01]\n",
      "  [ -1.55908750e-01   8.00559122e-01   5.29809717e-01   5.99034948e-01]\n",
      "  [ -1.49093206e+00   9.52493841e-01   2.13022915e-02   2.02072982e+00]\n",
      "  [ -7.66375314e-02  -6.59462112e-01  -6.96985895e-01  -1.75645967e+00]]\n",
      "\n",
      " [[ -7.79279553e-01  -8.68321983e-01   9.84969259e-01  -1.50330293e+00]\n",
      "  [  1.14627666e+00   5.24971640e-01   5.97482241e-01  -1.15890587e+00]\n",
      "  [  6.02226333e-01  -3.06664144e-01   5.05991975e-01   1.06283019e+00]\n",
      "  [  1.29165081e+00   8.70727890e-01  -2.19943252e+00   1.08072701e-01]\n",
      "  [ -2.29347154e-01  -2.44364560e-01   4.65407882e-01  -1.62050668e-02]]\n",
      "\n",
      " [[  9.70289813e-01   1.28465103e+00   1.56144177e+00  -1.79158023e-01]\n",
      "  [  4.91227783e-01   8.64914780e-01   2.75329919e-01  -1.02358379e+00]\n",
      "  [ -3.87990567e-01  -2.50742057e-01   1.84735730e-03   6.54435698e-01]\n",
      "  [ -2.28571420e-01   1.29973931e-01   8.23276176e-01   8.92589437e-02]\n",
      "  [ -1.25046804e-01  -3.46722255e-01   2.43813797e-01   1.05996498e+00]]]\n"
     ]
    }
   ],
   "source": [
    "# Display stack1\n",
    "print(f\"- original array:\\n {arrays}\")\n",
    "print(\"\\n\")\n",
    "print(f\"- Stacked array along the second axis:\\n {stack1}\")"
   ]
  },
  {
   "cell_type": "code",
   "execution_count": 46,
   "metadata": {
    "scrolled": false
   },
   "outputs": [
    {
     "name": "stdout",
     "output_type": "stream",
     "text": [
      "- original array:\n",
      " [[[ -1.18757848e+00  -7.91187933e-01   7.02430216e-01   1.99311768e+00]\n",
      "  [ -7.79279553e-01  -8.68321983e-01   9.84969259e-01  -1.50330293e+00]\n",
      "  [  9.70289813e-01   1.28465103e+00   1.56144177e+00  -1.79158023e-01]]\n",
      "\n",
      " [[  1.06989763e+00  -4.36415783e-01   2.28594800e-01  -5.94739925e-01]\n",
      "  [  1.14627666e+00   5.24971640e-01   5.97482241e-01  -1.15890587e+00]\n",
      "  [  4.91227783e-01   8.64914780e-01   2.75329919e-01  -1.02358379e+00]]\n",
      "\n",
      " [[ -1.55908750e-01   8.00559122e-01   5.29809717e-01   5.99034948e-01]\n",
      "  [  6.02226333e-01  -3.06664144e-01   5.05991975e-01   1.06283019e+00]\n",
      "  [ -3.87990567e-01  -2.50742057e-01   1.84735730e-03   6.54435698e-01]]\n",
      "\n",
      " [[ -1.49093206e+00   9.52493841e-01   2.13022915e-02   2.02072982e+00]\n",
      "  [  1.29165081e+00   8.70727890e-01  -2.19943252e+00   1.08072701e-01]\n",
      "  [ -2.28571420e-01   1.29973931e-01   8.23276176e-01   8.92589437e-02]]\n",
      "\n",
      " [[ -7.66375314e-02  -6.59462112e-01  -6.96985895e-01  -1.75645967e+00]\n",
      "  [ -2.29347154e-01  -2.44364560e-01   4.65407882e-01  -1.62050668e-02]\n",
      "  [ -1.25046804e-01  -3.46722255e-01   2.43813797e-01   1.05996498e+00]]]\n",
      "\n",
      "\n",
      "- Stacked array along the third axis:\n",
      " [[[ -1.18757848e+00   1.06989763e+00  -1.55908750e-01  -1.49093206e+00\n",
      "    -7.66375314e-02]\n",
      "  [ -7.91187933e-01  -4.36415783e-01   8.00559122e-01   9.52493841e-01\n",
      "    -6.59462112e-01]\n",
      "  [  7.02430216e-01   2.28594800e-01   5.29809717e-01   2.13022915e-02\n",
      "    -6.96985895e-01]\n",
      "  [  1.99311768e+00  -5.94739925e-01   5.99034948e-01   2.02072982e+00\n",
      "    -1.75645967e+00]]\n",
      "\n",
      " [[ -7.79279553e-01   1.14627666e+00   6.02226333e-01   1.29165081e+00\n",
      "    -2.29347154e-01]\n",
      "  [ -8.68321983e-01   5.24971640e-01  -3.06664144e-01   8.70727890e-01\n",
      "    -2.44364560e-01]\n",
      "  [  9.84969259e-01   5.97482241e-01   5.05991975e-01  -2.19943252e+00\n",
      "     4.65407882e-01]\n",
      "  [ -1.50330293e+00  -1.15890587e+00   1.06283019e+00   1.08072701e-01\n",
      "    -1.62050668e-02]]\n",
      "\n",
      " [[  9.70289813e-01   4.91227783e-01  -3.87990567e-01  -2.28571420e-01\n",
      "    -1.25046804e-01]\n",
      "  [  1.28465103e+00   8.64914780e-01  -2.50742057e-01   1.29973931e-01\n",
      "    -3.46722255e-01]\n",
      "  [  1.56144177e+00   2.75329919e-01   1.84735730e-03   8.23276176e-01\n",
      "     2.43813797e-01]\n",
      "  [ -1.79158023e-01  -1.02358379e+00   6.54435698e-01   8.92589437e-02\n",
      "     1.05996498e+00]]]\n"
     ]
    }
   ],
   "source": [
    "# Display stack2\n",
    "print(f\"- original array:\\n {arrays}\")\n",
    "print(\"\\n\")\n",
    "print(f\"- Stacked array along the third axis:\\n {stack2}\")"
   ]
  },
  {
   "cell_type": "markdown",
   "metadata": {},
   "source": [
    "#### Split\n",
    "Split an array into multiple sub-arrays. For information, please see: http://docs.scipy.org/doc/numpy/reference/generated/numpy.split.html"
   ]
  },
  {
   "cell_type": "code",
   "execution_count": 60,
   "metadata": {},
   "outputs": [
    {
     "name": "stdout",
     "output_type": "stream",
     "text": [
      "- Shape of the array to split: (5, 3, 4)\n",
      "- Array to split:\n",
      " [[[ -1.18757848e+00  -7.91187933e-01   7.02430216e-01   1.99311768e+00]\n",
      "  [ -7.79279553e-01  -8.68321983e-01   9.84969259e-01  -1.50330293e+00]\n",
      "  [  9.70289813e-01   1.28465103e+00   1.56144177e+00  -1.79158023e-01]]\n",
      "\n",
      " [[  1.06989763e+00  -4.36415783e-01   2.28594800e-01  -5.94739925e-01]\n",
      "  [  1.14627666e+00   5.24971640e-01   5.97482241e-01  -1.15890587e+00]\n",
      "  [  4.91227783e-01   8.64914780e-01   2.75329919e-01  -1.02358379e+00]]\n",
      "\n",
      " [[ -1.55908750e-01   8.00559122e-01   5.29809717e-01   5.99034948e-01]\n",
      "  [  6.02226333e-01  -3.06664144e-01   5.05991975e-01   1.06283019e+00]\n",
      "  [ -3.87990567e-01  -2.50742057e-01   1.84735730e-03   6.54435698e-01]]\n",
      "\n",
      " [[ -1.49093206e+00   9.52493841e-01   2.13022915e-02   2.02072982e+00]\n",
      "  [  1.29165081e+00   8.70727890e-01  -2.19943252e+00   1.08072701e-01]\n",
      "  [ -2.28571420e-01   1.29973931e-01   8.23276176e-01   8.92589437e-02]]\n",
      "\n",
      " [[ -7.66375314e-02  -6.59462112e-01  -6.96985895e-01  -1.75645967e+00]\n",
      "  [ -2.29347154e-01  -2.44364560e-01   4.65407882e-01  -1.62050668e-02]\n",
      "  [ -1.25046804e-01  -3.46722255e-01   2.43813797e-01   1.05996498e+00]]]\n"
     ]
    }
   ],
   "source": [
    "# Array to split\n",
    "before_split = stack0\n",
    "print(f\"- Shape of the array to split: {before_split.shape}\")\n",
    "print(f\"- Array to split:\\n {before_split}\")"
   ]
  },
  {
   "cell_type": "code",
   "execution_count": 56,
   "metadata": {},
   "outputs": [
    {
     "name": "stdout",
     "output_type": "stream",
     "text": [
      "- Type of the split array: <class 'list'>\n",
      "- Shape of the split array: 5\n",
      "- Split array:\n",
      " [array([[[-1.18757848, -0.79118793,  0.70243022,  1.99311768],\n",
      "        [-0.77927955, -0.86832198,  0.98496926, -1.50330293],\n",
      "        [ 0.97028981,  1.28465103,  1.56144177, -0.17915802]]]), array([[[ 1.06989763, -0.43641578,  0.2285948 , -0.59473993],\n",
      "        [ 1.14627666,  0.52497164,  0.59748224, -1.15890587],\n",
      "        [ 0.49122778,  0.86491478,  0.27532992, -1.02358379]]]), array([[[-0.15590875,  0.80055912,  0.52980972,  0.59903495],\n",
      "        [ 0.60222633, -0.30666414,  0.50599198,  1.06283019],\n",
      "        [-0.38799057, -0.25074206,  0.00184736,  0.6544357 ]]]), array([[[-1.49093206,  0.95249384,  0.02130229,  2.02072982],\n",
      "        [ 1.29165081,  0.87072789, -2.19943252,  0.1080727 ],\n",
      "        [-0.22857142,  0.12997393,  0.82327618,  0.08925894]]]), array([[[-0.07663753, -0.65946211, -0.69698589, -1.75645967],\n",
      "        [-0.22934715, -0.24436456,  0.46540788, -0.01620507],\n",
      "        [-0.1250468 , -0.34672226,  0.2438138 ,  1.05996498]]])]\n"
     ]
    }
   ],
   "source": [
    "# Split the array along the first axis\n",
    "s0 = np.split(before_split, 5, axis=0)\n",
    "print(f\"- Type of the split array: {type(s0)}\")\n",
    "print(f\"- Shape of the split array: {len(s0)}\")\n",
    "print(f\"- Split array:\\n {s0}\" )"
   ]
  },
  {
   "cell_type": "markdown",
   "metadata": {},
   "source": [
    "The result is a list of five 3 by 4 arrays"
   ]
  },
  {
   "cell_type": "code",
   "execution_count": 58,
   "metadata": {},
   "outputs": [
    {
     "name": "stdout",
     "output_type": "stream",
     "text": [
      "- Type of the split array: <class 'list'>\n",
      "- Shape of the split array: 3\n",
      "- Split array:\n",
      " [array([[[-1.18757848, -0.79118793,  0.70243022,  1.99311768]],\n",
      "\n",
      "       [[ 1.06989763, -0.43641578,  0.2285948 , -0.59473993]],\n",
      "\n",
      "       [[-0.15590875,  0.80055912,  0.52980972,  0.59903495]],\n",
      "\n",
      "       [[-1.49093206,  0.95249384,  0.02130229,  2.02072982]],\n",
      "\n",
      "       [[-0.07663753, -0.65946211, -0.69698589, -1.75645967]]]), array([[[-0.77927955, -0.86832198,  0.98496926, -1.50330293]],\n",
      "\n",
      "       [[ 1.14627666,  0.52497164,  0.59748224, -1.15890587]],\n",
      "\n",
      "       [[ 0.60222633, -0.30666414,  0.50599198,  1.06283019]],\n",
      "\n",
      "       [[ 1.29165081,  0.87072789, -2.19943252,  0.1080727 ]],\n",
      "\n",
      "       [[-0.22934715, -0.24436456,  0.46540788, -0.01620507]]]), array([[[ 0.97028981,  1.28465103,  1.56144177, -0.17915802]],\n",
      "\n",
      "       [[ 0.49122778,  0.86491478,  0.27532992, -1.02358379]],\n",
      "\n",
      "       [[-0.38799057, -0.25074206,  0.00184736,  0.6544357 ]],\n",
      "\n",
      "       [[-0.22857142,  0.12997393,  0.82327618,  0.08925894]],\n",
      "\n",
      "       [[-0.1250468 , -0.34672226,  0.2438138 ,  1.05996498]]])]\n"
     ]
    }
   ],
   "source": [
    "# Split the array along the second axis\n",
    "s1 = np.split(before_split, 3, axis=1)\n",
    "print(f\"- Type of the split array: {type(s1)}\")\n",
    "print(f\"- Shape of the split array: {len(s1)}\")\n",
    "print(f\"- Split array:\\n {s1}\" )"
   ]
  },
  {
   "cell_type": "markdown",
   "metadata": {},
   "source": [
    "The result is a list of three 5 by 4 arrays"
   ]
  },
  {
   "cell_type": "code",
   "execution_count": 67,
   "metadata": {},
   "outputs": [
    {
     "name": "stdout",
     "output_type": "stream",
     "text": [
      "- Type of the split array: <class 'list'>\n",
      "- Shape of the split array: 4\n",
      "- Split array:\n",
      " [array([[[-1.18757848],\n",
      "        [-0.77927955],\n",
      "        [ 0.97028981]],\n",
      "\n",
      "       [[ 1.06989763],\n",
      "        [ 1.14627666],\n",
      "        [ 0.49122778]],\n",
      "\n",
      "       [[-0.15590875],\n",
      "        [ 0.60222633],\n",
      "        [-0.38799057]],\n",
      "\n",
      "       [[-1.49093206],\n",
      "        [ 1.29165081],\n",
      "        [-0.22857142]],\n",
      "\n",
      "       [[-0.07663753],\n",
      "        [-0.22934715],\n",
      "        [-0.1250468 ]]]), array([[[-0.79118793],\n",
      "        [-0.86832198],\n",
      "        [ 1.28465103]],\n",
      "\n",
      "       [[-0.43641578],\n",
      "        [ 0.52497164],\n",
      "        [ 0.86491478]],\n",
      "\n",
      "       [[ 0.80055912],\n",
      "        [-0.30666414],\n",
      "        [-0.25074206]],\n",
      "\n",
      "       [[ 0.95249384],\n",
      "        [ 0.87072789],\n",
      "        [ 0.12997393]],\n",
      "\n",
      "       [[-0.65946211],\n",
      "        [-0.24436456],\n",
      "        [-0.34672226]]]), array([[[  7.02430216e-01],\n",
      "        [  9.84969259e-01],\n",
      "        [  1.56144177e+00]],\n",
      "\n",
      "       [[  2.28594800e-01],\n",
      "        [  5.97482241e-01],\n",
      "        [  2.75329919e-01]],\n",
      "\n",
      "       [[  5.29809717e-01],\n",
      "        [  5.05991975e-01],\n",
      "        [  1.84735730e-03]],\n",
      "\n",
      "       [[  2.13022915e-02],\n",
      "        [ -2.19943252e+00],\n",
      "        [  8.23276176e-01]],\n",
      "\n",
      "       [[ -6.96985895e-01],\n",
      "        [  4.65407882e-01],\n",
      "        [  2.43813797e-01]]]), array([[[ 1.99311768],\n",
      "        [-1.50330293],\n",
      "        [-0.17915802]],\n",
      "\n",
      "       [[-0.59473993],\n",
      "        [-1.15890587],\n",
      "        [-1.02358379]],\n",
      "\n",
      "       [[ 0.59903495],\n",
      "        [ 1.06283019],\n",
      "        [ 0.6544357 ]],\n",
      "\n",
      "       [[ 2.02072982],\n",
      "        [ 0.1080727 ],\n",
      "        [ 0.08925894]],\n",
      "\n",
      "       [[-1.75645967],\n",
      "        [-0.01620507],\n",
      "        [ 1.05996498]]])]\n"
     ]
    }
   ],
   "source": [
    "# Split the array along the third axis\n",
    "s2 = np.split(before_split, 4, axis=2)\n",
    "print(f\"- Type of the split array: {type(s2)}\")\n",
    "print(f\"- Shape of the split array: {len(s2)}\")\n",
    "print(f\"- Split array:\\n {s2}\")"
   ]
  },
  {
   "cell_type": "markdown",
   "metadata": {},
   "source": [
    "The result is a list of five 3 by 4 arrays"
   ]
  },
  {
   "cell_type": "code",
   "execution_count": 61,
   "metadata": {},
   "outputs": [
    {
     "data": {
      "text/plain": [
       "array([[[ -1.18757848e+00,  -7.91187933e-01,   7.02430216e-01,\n",
       "           1.99311768e+00],\n",
       "        [ -7.79279553e-01,  -8.68321983e-01,   9.84969259e-01,\n",
       "          -1.50330293e+00],\n",
       "        [  9.70289813e-01,   1.28465103e+00,   1.56144177e+00,\n",
       "          -1.79158023e-01]],\n",
       "\n",
       "       [[  1.06989763e+00,  -4.36415783e-01,   2.28594800e-01,\n",
       "          -5.94739925e-01],\n",
       "        [  1.14627666e+00,   5.24971640e-01,   5.97482241e-01,\n",
       "          -1.15890587e+00],\n",
       "        [  4.91227783e-01,   8.64914780e-01,   2.75329919e-01,\n",
       "          -1.02358379e+00]],\n",
       "\n",
       "       [[ -1.55908750e-01,   8.00559122e-01,   5.29809717e-01,\n",
       "           5.99034948e-01],\n",
       "        [  6.02226333e-01,  -3.06664144e-01,   5.05991975e-01,\n",
       "           1.06283019e+00],\n",
       "        [ -3.87990567e-01,  -2.50742057e-01,   1.84735730e-03,\n",
       "           6.54435698e-01]],\n",
       "\n",
       "       [[ -1.49093206e+00,   9.52493841e-01,   2.13022915e-02,\n",
       "           2.02072982e+00],\n",
       "        [  1.29165081e+00,   8.70727890e-01,  -2.19943252e+00,\n",
       "           1.08072701e-01],\n",
       "        [ -2.28571420e-01,   1.29973931e-01,   8.23276176e-01,\n",
       "           8.92589437e-02]],\n",
       "\n",
       "       [[ -7.66375314e-02,  -6.59462112e-01,  -6.96985895e-01,\n",
       "          -1.75645967e+00],\n",
       "        [ -2.29347154e-01,  -2.44364560e-01,   4.65407882e-01,\n",
       "          -1.62050668e-02],\n",
       "        [ -1.25046804e-01,  -3.46722255e-01,   2.43813797e-01,\n",
       "           1.05996498e+00]]])"
      ]
     },
     "execution_count": 61,
     "metadata": {},
     "output_type": "execute_result"
    }
   ],
   "source": [
    "before_split"
   ]
  },
  {
   "cell_type": "markdown",
   "metadata": {},
   "source": [
    "### 10. Array Shape Manipulation\n",
    "#### Reshape\n",
    "from: http://docs.scipy.org/doc/numpy/reference/generated/numpy.reshape.html#numpy.reshape\n",
    "\n",
    "NOTE: This will be a new view object if possible; otherwise, it will be a copy."
   ]
  },
  {
   "cell_type": "code",
   "execution_count": 64,
   "metadata": {},
   "outputs": [
    {
     "data": {
      "text/plain": [
       "array([ 0,  1,  2,  3,  4,  5,  6,  7,  8,  9, 10, 11, 12, 13, 14, 15, 16,\n",
       "       17, 18, 19, 20, 21, 22, 23])"
      ]
     },
     "execution_count": 64,
     "metadata": {},
     "output_type": "execute_result"
    }
   ],
   "source": [
    "# Array to start with\n",
    "my_start_array = np.array(np.arange(24))\n",
    "my_start_array"
   ]
  },
  {
   "cell_type": "code",
   "execution_count": 65,
   "metadata": {},
   "outputs": [
    {
     "data": {
      "text/plain": [
       "array([[ 0,  1,  2,  3,  4,  5,  6,  7],\n",
       "       [ 8,  9, 10, 11, 12, 13, 14, 15],\n",
       "       [16, 17, 18, 19, 20, 21, 22, 23]])"
      ]
     },
     "execution_count": 65,
     "metadata": {},
     "output_type": "execute_result"
    }
   ],
   "source": [
    "# Reshape array\n",
    "my_3_8_array = my_start_array.reshape((3,8))\n",
    "my_3_8_array"
   ]
  },
  {
   "cell_type": "code",
   "execution_count": 69,
   "metadata": {},
   "outputs": [
    {
     "name": "stdout",
     "output_type": "stream",
     "text": [
      "- The reshaped array:\n",
      " [[1234    1    2    3    4    5    6    7]\n",
      " [   8    9   10   11   12   13   14   15]\n",
      " [  16   17   18   19   20   21   22   23]]\n",
      "- The original array:\n",
      " [1234    1    2    3    4    5    6    7    8    9   10   11   12   13   14\n",
      "   15   16   17   18   19   20   21   22   23]\n"
     ]
    }
   ],
   "source": [
    "# Changing an element in the reshaped array also change the element in the original array!!!\n",
    "my_3_8_array[0,0] = 1234\n",
    "print(f\"- The reshaped array:\\n {my_3_8_array}\" )\n",
    "print(f\"- The original array:\\n {my_start_array}\" )"
   ]
  },
  {
   "cell_type": "markdown",
   "metadata": {},
   "source": [
    "#### Flatten an array"
   ]
  },
  {
   "cell_type": "code",
   "execution_count": 70,
   "metadata": {},
   "outputs": [
    {
     "data": {
      "text/plain": [
       "array([1234,    1,    2,    3,    4,    5,    6,    7,    8,    9,   10,\n",
       "         11,   12,   13,   14,   15,   16,   17,   18,   19,   20,   21,\n",
       "         22,   23])"
      ]
     },
     "execution_count": 70,
     "metadata": {},
     "output_type": "execute_result"
    }
   ],
   "source": [
    "# Flatten my_3_8_array\n",
    "my_ravel_array = my_3_8_array.ravel()\n",
    "my_ravel_array"
   ]
  },
  {
   "cell_type": "code",
   "execution_count": 71,
   "metadata": {},
   "outputs": [
    {
     "name": "stdout",
     "output_type": "stream",
     "text": [
      "1234\n",
      "1\n",
      "2\n",
      "3\n",
      "4\n",
      "5\n",
      "6\n",
      "7\n",
      "8\n",
      "9\n",
      "10\n",
      "11\n",
      "12\n",
      "13\n",
      "14\n",
      "15\n",
      "16\n",
      "17\n",
      "18\n",
      "19\n",
      "20\n",
      "21\n",
      "22\n",
      "23\n"
     ]
    }
   ],
   "source": [
    "# Loop through the elements of an array\n",
    "for n in my_3_8_array.flat:\n",
    "    print(n)"
   ]
  },
  {
   "cell_type": "markdown",
   "metadata": {},
   "source": [
    "### 11. Rearranging Array Elements"
   ]
  },
  {
   "cell_type": "code",
   "execution_count": 2,
   "metadata": {},
   "outputs": [],
   "source": [
    "import numpy as np\n",
    "\n",
    "# Create arrays to use\n",
    "my_start_array = np.array(np.arange(24))\n",
    "my_3_8_array = my_start_array.reshape((3,8))\n",
    "my_2_3_4_array = my_3_8_array.reshape((2,3,4))"
   ]
  },
  {
   "cell_type": "markdown",
   "metadata": {},
   "source": [
    "#### fliplr \"flip left right\"\n",
    "Flip array in the left/right direction. More information can be found on: http://docs.scipy.org/doc/numpy/reference/generated/numpy.fliplr.html#numpy.fliplr"
   ]
  },
  {
   "cell_type": "code",
   "execution_count": 3,
   "metadata": {},
   "outputs": [
    {
     "name": "stdout",
     "output_type": "stream",
     "text": [
      "- The original array:\n",
      " [[ 0  1  2  3  4  5  6  7]\n",
      " [ 8  9 10 11 12 13 14 15]\n",
      " [16 17 18 19 20 21 22 23]]\n",
      "- The reshaped array:\n",
      " [[ 7  6  5  4  3  2  1  0]\n",
      " [15 14 13 12 11 10  9  8]\n",
      " [23 22 21 20 19 18 17 16]]\n"
     ]
    }
   ],
   "source": [
    "# For two-dimensional arrays\n",
    "print(f\"- The original array:\\n {my_3_8_array}\" )\n",
    "print(f\"- The flipped array:\\n {np.fliplr(my_3_8_array)}\" )"
   ]
  },
  {
   "cell_type": "markdown",
   "metadata": {},
   "source": [
    "The order of the columns have been reversed"
   ]
  },
  {
   "cell_type": "code",
   "execution_count": 6,
   "metadata": {},
   "outputs": [
    {
     "name": "stdout",
     "output_type": "stream",
     "text": [
      "- The original array:\n",
      " [[[ 0  1  2  3]\n",
      "  [ 4  5  6  7]\n",
      "  [ 8  9 10 11]]\n",
      "\n",
      " [[12 13 14 15]\n",
      "  [16 17 18 19]\n",
      "  [20 21 22 23]]]\n",
      "- The flipped array:\n",
      " [[[ 8  9 10 11]\n",
      "  [ 4  5  6  7]\n",
      "  [ 0  1  2  3]]\n",
      "\n",
      " [[20 21 22 23]\n",
      "  [16 17 18 19]\n",
      "  [12 13 14 15]]]\n"
     ]
    }
   ],
   "source": [
    "# For three-dimensional arrays\n",
    "print(f\"- The original array:\\n {my_2_3_4_array}\" )\n",
    "print(f\"- The flipped array:\\n {np.fliplr(my_2_3_4_array)}\" )"
   ]
  },
  {
   "cell_type": "markdown",
   "metadata": {},
   "source": [
    "The fliplr() method acts on the last dimension"
   ]
  },
  {
   "cell_type": "markdown",
   "metadata": {},
   "source": [
    "#### flipud \"flip up down\"\n",
    "Flip array in the up/down direction. More information can be found on: http://docs.scipy.org/doc/numpy/reference/generated/numpy.flipud.html#numpy.flipud"
   ]
  },
  {
   "cell_type": "code",
   "execution_count": 5,
   "metadata": {},
   "outputs": [
    {
     "name": "stdout",
     "output_type": "stream",
     "text": [
      "- The original array:\n",
      " [[ 0  1  2  3  4  5  6  7]\n",
      " [ 8  9 10 11 12 13 14 15]\n",
      " [16 17 18 19 20 21 22 23]]\n",
      "- The flipped array:\n",
      " [[16 17 18 19 20 21 22 23]\n",
      " [ 8  9 10 11 12 13 14 15]\n",
      " [ 0  1  2  3  4  5  6  7]]\n"
     ]
    }
   ],
   "source": [
    "# For two-dimensional arrays\n",
    "print(f\"- The original array:\\n {my_3_8_array}\" )\n",
    "print(f\"- The flipped array:\\n {np.flipud(my_3_8_array)}\" )"
   ]
  },
  {
   "cell_type": "markdown",
   "metadata": {},
   "source": [
    "The order of the rows have been reversed"
   ]
  },
  {
   "cell_type": "code",
   "execution_count": 8,
   "metadata": {},
   "outputs": [
    {
     "name": "stdout",
     "output_type": "stream",
     "text": [
      "- The original array:\n",
      " [[[ 0  1  2  3]\n",
      "  [ 4  5  6  7]\n",
      "  [ 8  9 10 11]]\n",
      "\n",
      " [[12 13 14 15]\n",
      "  [16 17 18 19]\n",
      "  [20 21 22 23]]]\n",
      "- The flipped array:\n",
      " [[[12 13 14 15]\n",
      "  [16 17 18 19]\n",
      "  [20 21 22 23]]\n",
      "\n",
      " [[ 0  1  2  3]\n",
      "  [ 4  5  6  7]\n",
      "  [ 8  9 10 11]]]\n"
     ]
    }
   ],
   "source": [
    "# For three-dimensional arrays\n",
    "print(f\"- The original array:\\n {my_2_3_4_array}\" )\n",
    "print(f\"- The flipped array:\\n {np.flipud(my_2_3_4_array)}\" )"
   ]
  },
  {
   "cell_type": "markdown",
   "metadata": {},
   "source": [
    "The order of the sub-arrays has been reversed"
   ]
  },
  {
   "cell_type": "markdown",
   "metadata": {},
   "source": [
    "#### Rolling an array\n",
    "More information can be found on: http://docs.scipy.org/doc/numpy/reference/generated/numpy.roll.html#numpy.roll"
   ]
  },
  {
   "cell_type": "code",
   "execution_count": 14,
   "metadata": {},
   "outputs": [
    {
     "name": "stdout",
     "output_type": "stream",
     "text": [
      "- The original array:\n",
      " [ 0  1  2  3  4  5  6  7  8  9 10 11 12 13 14 15 16 17 18 19 20 21 22 23]\n",
      "- The rolled array:\n",
      " [19 20 21 22 23  0  1  2  3  4  5  6  7  8  9 10 11 12 13 14 15 16 17 18]\n"
     ]
    }
   ],
   "source": [
    "# For a one dimensional array\n",
    "print(f\"- The original array:\\n {my_start_array}\" )\n",
    "print(f\"- The rolled array:\\n {np.roll(my_start_array, shift = 5)}\" )"
   ]
  },
  {
   "cell_type": "markdown",
   "metadata": {},
   "source": [
    "The last five elements are now the first five elements of the array"
   ]
  },
  {
   "cell_type": "code",
   "execution_count": 13,
   "metadata": {},
   "outputs": [
    {
     "data": {
      "text/plain": [
       "array([ 5,  6,  7,  8,  9, 10, 11, 12, 13, 14, 15, 16, 17, 18, 19, 20, 21,\n",
       "       22, 23,  0,  1,  2,  3,  4])"
      ]
     },
     "execution_count": 13,
     "metadata": {},
     "output_type": "execute_result"
    }
   ],
   "source": [
    "# Now we can also roll the first elements instead of the last element by using a negative value\n",
    "# for the shift parameter\n",
    "np.roll(my_start_array, shift = -5)"
   ]
  },
  {
   "cell_type": "code",
   "execution_count": 15,
   "metadata": {},
   "outputs": [
    {
     "name": "stdout",
     "output_type": "stream",
     "text": [
      "- The original array:\n",
      " [[[ 0  1  2  3]\n",
      "  [ 4  5  6  7]\n",
      "  [ 8  9 10 11]]\n",
      "\n",
      " [[12 13 14 15]\n",
      "  [16 17 18 19]\n",
      "  [20 21 22 23]]]\n",
      "- The rolled array:\n",
      " [[[22 23  0  1]\n",
      "  [ 2  3  4  5]\n",
      "  [ 6  7  8  9]]\n",
      "\n",
      " [[10 11 12 13]\n",
      "  [14 15 16 17]\n",
      "  [18 19 20 21]]]\n"
     ]
    }
   ],
   "source": [
    "# For a three-dimensional array\n",
    "print(f\"- The original array:\\n {my_2_3_4_array}\" )\n",
    "print(f\"- The rolled array:\\n {np.roll(my_2_3_4_array, shift = 2)}\" )"
   ]
  },
  {
   "cell_type": "code",
   "execution_count": 16,
   "metadata": {},
   "outputs": [
    {
     "data": {
      "text/plain": [
       "array([[[ 2,  3,  4,  5],\n",
       "        [ 6,  7,  8,  9],\n",
       "        [10, 11, 12, 13]],\n",
       "\n",
       "       [[14, 15, 16, 17],\n",
       "        [18, 19, 20, 21],\n",
       "        [22, 23,  0,  1]]])"
      ]
     },
     "execution_count": 16,
     "metadata": {},
     "output_type": "execute_result"
    }
   ],
   "source": [
    "# To roll the first elements\n",
    "np.roll(my_2_3_4_array, -2)"
   ]
  },
  {
   "cell_type": "markdown",
   "metadata": {},
   "source": [
    "#### Rotating an array\n",
    "More information can be found on: http://docs.scipy.org/doc/numpy/reference/generated/numpy.roll.html#numpy.roll"
   ]
  },
  {
   "cell_type": "code",
   "execution_count": 17,
   "metadata": {},
   "outputs": [
    {
     "name": "stdout",
     "output_type": "stream",
     "text": [
      "- The original array:\n",
      " [[ 0  1  2  3  4  5  6  7]\n",
      " [ 8  9 10 11 12 13 14 15]\n",
      " [16 17 18 19 20 21 22 23]]\n",
      "- The rolled array:\n",
      " [[ 7 15 23]\n",
      " [ 6 14 22]\n",
      " [ 5 13 21]\n",
      " [ 4 12 20]\n",
      " [ 3 11 19]\n",
      " [ 2 10 18]\n",
      " [ 1  9 17]\n",
      " [ 0  8 16]]\n"
     ]
    }
   ],
   "source": [
    "# Positive rotation for a one dimensional array \n",
    "print(f\"- The original array:\\n {my_3_8_array}\" )\n",
    "print(f\"- The rolled array:\\n {np.rot90(my_3_8_array)}\" )"
   ]
  },
  {
   "cell_type": "markdown",
   "metadata": {},
   "source": [
    "We get a 8 by 3 array with the last column becoming the first row"
   ]
  },
  {
   "cell_type": "code",
   "execution_count": 18,
   "metadata": {},
   "outputs": [
    {
     "name": "stdout",
     "output_type": "stream",
     "text": [
      "- The original array:\n",
      " [[ 0  1  2  3  4  5  6  7]\n",
      " [ 8  9 10 11 12 13 14 15]\n",
      " [16 17 18 19 20 21 22 23]]\n",
      "- The rolled array:\n",
      " [[16  8  0]\n",
      " [17  9  1]\n",
      " [18 10  2]\n",
      " [19 11  3]\n",
      " [20 12  4]\n",
      " [21 13  5]\n",
      " [22 14  6]\n",
      " [23 15  7]]\n"
     ]
    }
   ],
   "source": [
    "# Negative rotation for a one dimensional array \n",
    "print(f\"- The original array:\\n {my_3_8_array}\" )\n",
    "print(f\"- The rolled array:\\n {np.rot90(my_3_8_array, k=-1)}\" )"
   ]
  },
  {
   "cell_type": "markdown",
   "metadata": {},
   "source": [
    "We get a 8 by 3 array with the last row becoming the first column"
   ]
  },
  {
   "cell_type": "markdown",
   "metadata": {},
   "source": [
    "### 12. Transpose-like Operations\n",
    "- transpose: use np.transpose to permute all the axes at once.\n",
    "- swapaxes: use np.swapaxes to swap any two axes.\n",
    "- rollaxes: use np.rollaxis to \"rotate\" the axes."
   ]
  },
  {
   "cell_type": "code",
   "execution_count": 19,
   "metadata": {},
   "outputs": [],
   "source": [
    "import numpy as np\n",
    "\n",
    "# Arrays to use\n",
    "my_start_array = np.array(np.arange(24))\n",
    "my_3_8_array = my_start_array.reshape((3,8))\n",
    "my_2_3_4_array = my_3_8_array.reshape((2,3,4))"
   ]
  },
  {
   "cell_type": "markdown",
   "metadata": {},
   "source": [
    "#### Transpose\n",
    "Transpose reverse the dimension of an array, except if a specific re-arrangement of the dimensions is given. For more information, please see: http://docs.scipy.org/doc/numpy/reference/generated/numpy.transpose.html"
   ]
  },
  {
   "cell_type": "code",
   "execution_count": 21,
   "metadata": {},
   "outputs": [
    {
     "name": "stdout",
     "output_type": "stream",
     "text": [
      "- The original array:\n",
      " [[ 0  1  2  3  4  5  6  7]\n",
      " [ 8  9 10 11 12 13 14 15]\n",
      " [16 17 18 19 20 21 22 23]]\n",
      "- The transposed array:\n",
      " [[ 0  8 16]\n",
      " [ 1  9 17]\n",
      " [ 2 10 18]\n",
      " [ 3 11 19]\n",
      " [ 4 12 20]\n",
      " [ 5 13 21]\n",
      " [ 6 14 22]\n",
      " [ 7 15 23]]\n"
     ]
    }
   ],
   "source": [
    "# Transpose a two-dimensional array\n",
    "print(f\"- The original array:\\n {my_3_8_array}\")\n",
    "print(f\"- The transposed array:\\n {np.transpose(my_3_8_array)}\")"
   ]
  },
  {
   "cell_type": "code",
   "execution_count": 22,
   "metadata": {},
   "outputs": [
    {
     "name": "stdout",
     "output_type": "stream",
     "text": [
      "- The original array:\n",
      " [[[ 0  1  2  3]\n",
      "  [ 4  5  6  7]\n",
      "  [ 8  9 10 11]]\n",
      "\n",
      " [[12 13 14 15]\n",
      "  [16 17 18 19]\n",
      "  [20 21 22 23]]]\n",
      "- The transposed array:\n",
      " [[[ 0 12]\n",
      "  [ 4 16]\n",
      "  [ 8 20]]\n",
      "\n",
      " [[ 1 13]\n",
      "  [ 5 17]\n",
      "  [ 9 21]]\n",
      "\n",
      " [[ 2 14]\n",
      "  [ 6 18]\n",
      "  [10 22]]\n",
      "\n",
      " [[ 3 15]\n",
      "  [ 7 19]\n",
      "  [11 23]]]\n"
     ]
    }
   ],
   "source": [
    "# Transpose a three-dimensional array\n",
    "print(f\"- The original array:\\n {my_2_3_4_array}\")\n",
    "print(f\"- The transposed array:\\n {np.transpose(my_2_3_4_array)}\")"
   ]
  },
  {
   "cell_type": "markdown",
   "metadata": {},
   "source": [
    "The dimensions have been reversed so we obtained a 4 by 3 by 2 array"
   ]
  },
  {
   "cell_type": "code",
   "execution_count": 26,
   "metadata": {},
   "outputs": [
    {
     "name": "stdout",
     "output_type": "stream",
     "text": [
      "- The original array:\n",
      " [[[ 0  1  2  3]\n",
      "  [ 4  5  6  7]\n",
      "  [ 8  9 10 11]]\n",
      "\n",
      " [[12 13 14 15]\n",
      "  [16 17 18 19]\n",
      "  [20 21 22 23]]]\n",
      "- The transposed array with axes = (0,2,1):\n",
      " [[[ 0  4  8]\n",
      "  [ 1  5  9]\n",
      "  [ 2  6 10]\n",
      "  [ 3  7 11]]\n",
      "\n",
      " [[12 16 20]\n",
      "  [13 17 21]\n",
      "  [14 18 22]\n",
      "  [15 19 23]]]\n",
      "- The transposed array with axes = (2,1,0):\n",
      " [[[ 0 12]\n",
      "  [ 4 16]\n",
      "  [ 8 20]]\n",
      "\n",
      " [[ 1 13]\n",
      "  [ 5 17]\n",
      "  [ 9 21]]\n",
      "\n",
      " [[ 2 14]\n",
      "  [ 6 18]\n",
      "  [10 22]]\n",
      "\n",
      " [[ 3 15]\n",
      "  [ 7 19]\n",
      "  [11 23]]]\n"
     ]
    }
   ],
   "source": [
    "# We can choose the permutation to use by using the axes option\n",
    "print(f\"- The original array:\\n {my_2_3_4_array}\" )\n",
    "print(f\"- The transposed array with axes = (0,2,1):\\n {np.transpose(my_2_3_4_array, axes=(0,2,1))}\")\n",
    "print(f\"- The transposed array with axes = (2,1,0):\\n {np.transpose(my_2_3_4_array, axes=(2,1,0))}\")"
   ]
  },
  {
   "cell_type": "markdown",
   "metadata": {},
   "source": [
    "#### Swapaxes\n",
    "For Numpy >= 1.10, if a is an ndarray, then a view of a is returned; otherwise a new array is created. For earlier Numpy versions a view of a is returned only if the order of the axes is changed, otherwise the input array is returned. For more information: http://docs.scipy.org/doc/numpy/reference/generated/numpy.swapaxes.html#numpy.swapaxes."
   ]
  },
  {
   "cell_type": "code",
   "execution_count": 28,
   "metadata": {},
   "outputs": [
    {
     "name": "stdout",
     "output_type": "stream",
     "text": [
      "- The original array:\n",
      " [[ 0  1  2  3  4  5  6  7]\n",
      " [ 8  9 10 11 12 13 14 15]\n",
      " [16 17 18 19 20 21 22 23]]\n",
      "- The transposed array:\n",
      " [[ 0  8 16]\n",
      " [ 1  9 17]\n",
      " [ 2 10 18]\n",
      " [ 3 11 19]\n",
      " [ 4 12 20]\n",
      " [ 5 13 21]\n",
      " [ 6 14 22]\n",
      " [ 7 15 23]]\n"
     ]
    }
   ],
   "source": [
    "# Swap axes in a two-dimensional array (equivalent to a transposition)\n",
    "print(f\"- The original array:\\n {my_3_8_array}\")\n",
    "print(f\"- The swapped array:\\n {np.swapaxes(my_3_8_array, 1, 0)}\")"
   ]
  },
  {
   "cell_type": "code",
   "execution_count": 30,
   "metadata": {},
   "outputs": [
    {
     "name": "stdout",
     "output_type": "stream",
     "text": [
      "- The original array:\n",
      " [[[ 0  1  2  3]\n",
      "  [ 4  5  6  7]\n",
      "  [ 8  9 10 11]]\n",
      "\n",
      " [[12 13 14 15]\n",
      "  [16 17 18 19]\n",
      "  [20 21 22 23]]]\n",
      "- The swapped array:\n",
      " [[[ 0  1  2  3]\n",
      "  [12 13 14 15]]\n",
      "\n",
      " [[ 4  5  6  7]\n",
      "  [16 17 18 19]]\n",
      "\n",
      " [[ 8  9 10 11]\n",
      "  [20 21 22 23]]]\n"
     ]
    }
   ],
   "source": [
    "# Swap axes in a three-dimensional array\n",
    "print(f\"- The original array:\\n {my_2_3_4_array}\")\n",
    "print(f\"- The swapped array:\\n {np.swapaxes(my_2_3_4_array, 1, 0)}\")"
   ]
  },
  {
   "cell_type": "code",
   "execution_count": 31,
   "metadata": {},
   "outputs": [
    {
     "name": "stdout",
     "output_type": "stream",
     "text": [
      "- The original array:\n",
      " [[[ 0  1  2  3]\n",
      "  [ 4  5  6  7]\n",
      "  [ 8  9 10 11]]\n",
      "\n",
      " [[12 13 14 15]\n",
      "  [16 17 18 19]\n",
      "  [20 21 22 23]]]\n",
      "- The swapped array:\n",
      " [[[ 0 12]\n",
      "  [ 4 16]\n",
      "  [ 8 20]]\n",
      "\n",
      " [[ 1 13]\n",
      "  [ 5 17]\n",
      "  [ 9 21]]\n",
      "\n",
      " [[ 2 14]\n",
      "  [ 6 18]\n",
      "  [10 22]]\n",
      "\n",
      " [[ 3 15]\n",
      "  [ 7 19]\n",
      "  [11 23]]]\n"
     ]
    }
   ],
   "source": [
    "# Another example with a three-dimensional array\n",
    "print(f\"- The original array:\\n {my_2_3_4_array}\")\n",
    "print(f\"- The swapped array:\\n {np.swapaxes(my_2_3_4_array, 2, 0)}\")"
   ]
  },
  {
   "cell_type": "markdown",
   "metadata": {},
   "source": [
    "#### Rollaxis\n",
    "Roll the specified axis backwards, until it lies in a given position (rotation). For Numpy >= 1.10 a view of a is always returned. For earlier Numpy versions a view of a is returned only if the order of the axes is changed, otherwise the input array is returned. For more information: http://docs.scipy.org/doc/numpy/reference/generated/numpy.rollaxis.html#numpy.rollaxis"
   ]
  },
  {
   "cell_type": "code",
   "execution_count": 32,
   "metadata": {
    "scrolled": true
   },
   "outputs": [
    {
     "name": "stdout",
     "output_type": "stream",
     "text": [
      "- The original array:\n",
      " [[[ 0  1  2  3]\n",
      "  [ 4  5  6  7]\n",
      "  [ 8  9 10 11]]\n",
      "\n",
      " [[12 13 14 15]\n",
      "  [16 17 18 19]\n",
      "  [20 21 22 23]]]\n",
      "- The swapped array:\n",
      " [[[ 0  1  2  3]\n",
      "  [12 13 14 15]]\n",
      "\n",
      " [[ 4  5  6  7]\n",
      "  [16 17 18 19]]\n",
      "\n",
      " [[ 8  9 10 11]\n",
      "  [20 21 22 23]]]\n"
     ]
    }
   ],
   "source": [
    "# Roll axes in a three-dimensional array\n",
    "print(f\"- The original array:\\n {my_2_3_4_array}\")\n",
    "print(f\"- The swapped array:\\n {np.rollaxis(my_2_3_4_array, 0, 2)}\")"
   ]
  },
  {
   "cell_type": "markdown",
   "metadata": {},
   "source": [
    "### 13. Tiling Arrays"
   ]
  },
  {
   "cell_type": "code",
   "execution_count": 2,
   "metadata": {},
   "outputs": [
    {
     "data": {
      "text/plain": [
       "array([ 0,  1,  2,  3,  4,  5,  6,  7,  8,  9, 10, 11])"
      ]
     },
     "execution_count": 2,
     "metadata": {},
     "output_type": "execute_result"
    }
   ],
   "source": [
    "import numpy as np\n",
    "\n",
    "# Create array to use\n",
    "my_start_array = np.array(np.arange(12))\n",
    "my_start_array"
   ]
  },
  {
   "cell_type": "markdown",
   "metadata": {},
   "source": [
    "#### Tile\n",
    "Construct an array by repeating A the number of times given by reps. \n",
    "\n",
    "- If reps has length d, the result will have dimension of max(d, A.ndim).\n",
    "- If A.ndim < d, A is promoted to be d-dimensional by prepending new axes. So a shape (3,) array is promoted to (1, 3) for 2-D replication, or shape (1, 1, 3) for 3-D replication. If this is not the desired behavior, promote A to d-dimensions manually before calling this function.\n",
    "- If A.ndim > d, reps is promoted to A.ndim by pre-pending 1’s to it. Thus for an A of shape (2, 3, 4, 5), a reps of (2, 2) is treated as (1, 1, 2, 2). \n",
    "\n",
    "For more information: http://docs.scipy.org/doc/numpy/reference/generated/numpy.tile.html#numpy.tile\n",
    "\n"
   ]
  },
  {
   "cell_type": "code",
   "execution_count": 3,
   "metadata": {},
   "outputs": [
    {
     "data": {
      "text/plain": [
       "array([ 0,  1,  2,  3,  4,  5,  6,  7,  8,  9, 10, 11,  0,  1,  2,  3,  4,\n",
       "        5,  6,  7,  8,  9, 10, 11,  0,  1,  2,  3,  4,  5,  6,  7,  8,  9,\n",
       "       10, 11])"
      ]
     },
     "execution_count": 3,
     "metadata": {},
     "output_type": "execute_result"
    }
   ],
   "source": [
    "# Create an array by repeating a given array 3 times\n",
    "np.tile(my_start_array, 3)"
   ]
  },
  {
   "cell_type": "code",
   "execution_count": 4,
   "metadata": {},
   "outputs": [
    {
     "data": {
      "text/plain": [
       "array([[ 0,  1,  2,  3,  4,  5,  6,  7,  8,  9, 10, 11],\n",
       "       [ 0,  1,  2,  3,  4,  5,  6,  7,  8,  9, 10, 11],\n",
       "       [ 0,  1,  2,  3,  4,  5,  6,  7,  8,  9, 10, 11]])"
      ]
     },
     "execution_count": 4,
     "metadata": {},
     "output_type": "execute_result"
    }
   ],
   "source": [
    "# We can reshape the obtained array\n",
    "np.tile(my_start_array, 3).reshape((3,12))"
   ]
  },
  {
   "cell_type": "code",
   "execution_count": 7,
   "metadata": {},
   "outputs": [
    {
     "data": {
      "text/plain": [
       "array([[0, 1, 2, 3, 4, 5, 6],\n",
       "       [0, 1, 2, 3, 4, 5, 6],\n",
       "       [0, 1, 2, 3, 4, 5, 6]])"
      ]
     },
     "execution_count": 7,
     "metadata": {},
     "output_type": "execute_result"
    }
   ],
   "source": [
    "# Let's create a two-dimensional array\n",
    "my_second_array = np.array(np.arange(7))\n",
    "tile_1 = np.tile(my_second_array, (3, 1))\n",
    "tile_1"
   ]
  },
  {
   "cell_type": "code",
   "execution_count": 8,
   "metadata": {},
   "outputs": [
    {
     "data": {
      "text/plain": [
       "array([[0, 1, 2, 3, 4, 5, 6, 0, 1, 2, 3, 4, 5, 6],\n",
       "       [0, 1, 2, 3, 4, 5, 6, 0, 1, 2, 3, 4, 5, 6],\n",
       "       [0, 1, 2, 3, 4, 5, 6, 0, 1, 2, 3, 4, 5, 6],\n",
       "       [0, 1, 2, 3, 4, 5, 6, 0, 1, 2, 3, 4, 5, 6],\n",
       "       [0, 1, 2, 3, 4, 5, 6, 0, 1, 2, 3, 4, 5, 6],\n",
       "       [0, 1, 2, 3, 4, 5, 6, 0, 1, 2, 3, 4, 5, 6]])"
      ]
     },
     "execution_count": 8,
     "metadata": {},
     "output_type": "execute_result"
    }
   ],
   "source": [
    "# Tile a two-dimensional array\n",
    "tile_2 = np.tile(tile_1, (2,2))\n",
    "tile_2"
   ]
  },
  {
   "cell_type": "markdown",
   "metadata": {},
   "source": [
    "#### Repeat\n",
    "Unlike tile, this repeats element-by-element. For more information: http://docs.scipy.org/doc/numpy/reference/generated/numpy.repeat.html#numpy.repeat"
   ]
  },
  {
   "cell_type": "code",
   "execution_count": 9,
   "metadata": {},
   "outputs": [
    {
     "name": "stdout",
     "output_type": "stream",
     "text": [
      "- The original array:\n",
      " [0 1 2 3 4 5 6]\n",
      "- The repeated array:\n",
      " [0 0 0 1 1 1 2 2 2 3 3 3 4 4 4 5 5 5 6 6 6]\n"
     ]
    }
   ],
   "source": [
    "# Repeat a one-dimensional array\n",
    "print(f\"- The original array:\\n {my_second_array}\")\n",
    "print(f\"- The repeated array:\\n {np.repeat(my_second_array, 3)}\")"
   ]
  },
  {
   "cell_type": "code",
   "execution_count": 11,
   "metadata": {},
   "outputs": [
    {
     "name": "stdout",
     "output_type": "stream",
     "text": [
      "- The original array:\n",
      " [[[ 0  1  2  3]\n",
      "  [ 4  5  6  7]\n",
      "  [ 8  9 10 11]]\n",
      "\n",
      " [[12 13 14 15]\n",
      "  [16 17 18 19]\n",
      "  [20 21 22 23]]]\n",
      "- The repeated array:\n",
      " [[[ 0  1  2  3]\n",
      "  [ 4  5  6  7]\n",
      "  [ 8  9 10 11]]\n",
      "\n",
      " [[ 0  1  2  3]\n",
      "  [ 4  5  6  7]\n",
      "  [ 8  9 10 11]]\n",
      "\n",
      " [[12 13 14 15]\n",
      "  [16 17 18 19]\n",
      "  [20 21 22 23]]\n",
      "\n",
      " [[12 13 14 15]\n",
      "  [16 17 18 19]\n",
      "  [20 21 22 23]]]\n"
     ]
    }
   ],
   "source": [
    "# Repeat a three-dimensional array along the first axis\n",
    "my_repeatable_array = np.array(np.arange(24)).reshape(2,3,4)\n",
    "print(f\"- The original array:\\n {my_repeatable_array}\")\n",
    "print(f\"- The repeated array:\\n {np.repeat(my_repeatable_array, 2, axis=0)}\")"
   ]
  },
  {
   "cell_type": "code",
   "execution_count": 12,
   "metadata": {},
   "outputs": [
    {
     "name": "stdout",
     "output_type": "stream",
     "text": [
      "- The original array:\n",
      " [[[ 0  1  2  3]\n",
      "  [ 4  5  6  7]\n",
      "  [ 8  9 10 11]]\n",
      "\n",
      " [[12 13 14 15]\n",
      "  [16 17 18 19]\n",
      "  [20 21 22 23]]]\n",
      "- The repeated array:\n",
      " [[[ 0  1  2  3]\n",
      "  [ 0  1  2  3]\n",
      "  [ 4  5  6  7]\n",
      "  [ 4  5  6  7]\n",
      "  [ 8  9 10 11]\n",
      "  [ 8  9 10 11]]\n",
      "\n",
      " [[12 13 14 15]\n",
      "  [12 13 14 15]\n",
      "  [16 17 18 19]\n",
      "  [16 17 18 19]\n",
      "  [20 21 22 23]\n",
      "  [20 21 22 23]]]\n"
     ]
    }
   ],
   "source": [
    "# Repeat a three-dimensional array along the second axis\n",
    "print(f\"- The original array:\\n {my_repeatable_array}\")\n",
    "print(f\"- The repeated array:\\n {np.repeat(my_repeatable_array, 2, axis=1)}\")"
   ]
  },
  {
   "cell_type": "code",
   "execution_count": 13,
   "metadata": {},
   "outputs": [
    {
     "name": "stdout",
     "output_type": "stream",
     "text": [
      "- The original array:\n",
      " [[[ 0  1  2  3]\n",
      "  [ 4  5  6  7]\n",
      "  [ 8  9 10 11]]\n",
      "\n",
      " [[12 13 14 15]\n",
      "  [16 17 18 19]\n",
      "  [20 21 22 23]]]\n",
      "- The repeated array:\n",
      " [[[ 0  0  1  1  2  2  3  3]\n",
      "  [ 4  4  5  5  6  6  7  7]\n",
      "  [ 8  8  9  9 10 10 11 11]]\n",
      "\n",
      " [[12 12 13 13 14 14 15 15]\n",
      "  [16 16 17 17 18 18 19 19]\n",
      "  [20 20 21 21 22 22 23 23]]]\n"
     ]
    }
   ],
   "source": [
    "# Repeat a three-dimensional array along the third axis\n",
    "print(f\"- The original array:\\n {my_repeatable_array}\")\n",
    "print(f\"- The repeated array:\\n {np.repeat(my_repeatable_array, 2, axis=2)}\")"
   ]
  }
 ],
 "metadata": {
  "kernelspec": {
   "display_name": "Python 3",
   "language": "python",
   "name": "python3"
  },
  "language_info": {
   "codemirror_mode": {
    "name": "ipython",
    "version": 3
   },
   "file_extension": ".py",
   "mimetype": "text/x-python",
   "name": "python",
   "nbconvert_exporter": "python",
   "pygments_lexer": "ipython3",
   "version": "3.7.1"
  }
 },
 "nbformat": 4,
 "nbformat_minor": 2
}
